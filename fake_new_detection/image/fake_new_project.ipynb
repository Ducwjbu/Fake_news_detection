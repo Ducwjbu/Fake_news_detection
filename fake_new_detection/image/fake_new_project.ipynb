{
 "cells": [
  {
   "cell_type": "code",
   "execution_count": 23,
   "id": "fcf57d93",
   "metadata": {},
   "outputs": [],
   "source": [
    "import pandas as pd\n",
    "import numpy as np\n",
    "import matplotlib.pyplot as plt\n",
    "import nltk\n",
    "import re\n",
    "import string\n",
    "from sklearn.model_selection import train_test_split\n",
    "from sklearn.metrics import accuracy_score\n",
    "from sklearn.metrics import classification_report\n",
    "import seaborn as sns\n",
    "from wordcloud import WordCloud\n",
    "import plotly.express as px\n",
    "import plotly.graph_objects as go\n",
    "from collections import Counter\n",
    "from sklearn.metrics import confusion_matrix, roc_curve, auc\n",
    "import warnings\n",
    "warnings.filterwarnings('ignore')\n",
    "import scipy.sparse"
   ]
  },
  {
   "cell_type": "code",
   "execution_count": 24,
   "id": "f502f6c9",
   "metadata": {},
   "outputs": [
    {
     "data": {
      "text/html": [
       "<div>\n",
       "<style scoped>\n",
       "    .dataframe tbody tr th:only-of-type {\n",
       "        vertical-align: middle;\n",
       "    }\n",
       "\n",
       "    .dataframe tbody tr th {\n",
       "        vertical-align: top;\n",
       "    }\n",
       "\n",
       "    .dataframe thead th {\n",
       "        text-align: right;\n",
       "    }\n",
       "</style>\n",
       "<table border=\"1\" class=\"dataframe\">\n",
       "  <thead>\n",
       "    <tr style=\"text-align: right;\">\n",
       "      <th></th>\n",
       "      <th>title</th>\n",
       "      <th>text</th>\n",
       "      <th>subject</th>\n",
       "      <th>date</th>\n",
       "    </tr>\n",
       "  </thead>\n",
       "  <tbody>\n",
       "    <tr>\n",
       "      <th>0</th>\n",
       "      <td>Sean Hannity Just Said Child Molestation Is O...</td>\n",
       "      <td>Republicans for some reason think it s perfect...</td>\n",
       "      <td>News</td>\n",
       "      <td>November 9, 2017</td>\n",
       "    </tr>\n",
       "    <tr>\n",
       "      <th>1</th>\n",
       "      <td>Boiler Room EP #69 – CULTure Club</td>\n",
       "      <td>Tune in to the Alternate Current Radio Network...</td>\n",
       "      <td>Middle-east</td>\n",
       "      <td>August 18, 2016</td>\n",
       "    </tr>\n",
       "    <tr>\n",
       "      <th>2</th>\n",
       "      <td>Chris Christie Takes Marco Rubio To The Woods...</td>\n",
       "      <td>Marco Rubio was looming large in New Hampshire...</td>\n",
       "      <td>News</td>\n",
       "      <td>February 7, 2016</td>\n",
       "    </tr>\n",
       "    <tr>\n",
       "      <th>3</th>\n",
       "      <td>FIVE FACTS About Benghazi That Hillary Doesn’t...</td>\n",
       "      <td>FIVE FACTS ABOUT HILLARY AND BENGHAZI:</td>\n",
       "      <td>Government News</td>\n",
       "      <td>Jul 29, 2016</td>\n",
       "    </tr>\n",
       "    <tr>\n",
       "      <th>4</th>\n",
       "      <td>Stuck on Stupid: Why is America Starting WW3?</td>\n",
       "      <td>SARTRE 21st Century WireEvery day the world mo...</td>\n",
       "      <td>US_News</td>\n",
       "      <td>October 11, 2016</td>\n",
       "    </tr>\n",
       "    <tr>\n",
       "      <th>5</th>\n",
       "      <td>LOL! CONSERVATIVE COMEDIAN Steven Crowder Make...</td>\n",
       "      <td>Hysterical! As always, conservative comedian S...</td>\n",
       "      <td>left-news</td>\n",
       "      <td>Jun 18, 2016</td>\n",
       "    </tr>\n",
       "    <tr>\n",
       "      <th>6</th>\n",
       "      <td>ANOTHER WIN FOR TRUMP! Release Of Americans Ja...</td>\n",
       "      <td>Another great move by the Trump administration...</td>\n",
       "      <td>Government News</td>\n",
       "      <td>Apr 21, 2017</td>\n",
       "    </tr>\n",
       "    <tr>\n",
       "      <th>7</th>\n",
       "      <td>FAKE CNN and MSNBC Caught Claiming “LIVE” Gues...</td>\n",
       "      <td></td>\n",
       "      <td>politics</td>\n",
       "      <td>Mar 23, 2017</td>\n",
       "    </tr>\n",
       "    <tr>\n",
       "      <th>8</th>\n",
       "      <td>HILLARY CLINTON: We All Know She’s Deceitful A...</td>\n",
       "      <td>She was an unethical, dishonest lawyer. She c...</td>\n",
       "      <td>politics</td>\n",
       "      <td>Apr 15, 2015</td>\n",
       "    </tr>\n",
       "    <tr>\n",
       "      <th>9</th>\n",
       "      <td>BREAKING: LIVE WIKILEAKS Announcement About Hi...</td>\n",
       "      <td>People have a right to understand who it is t...</td>\n",
       "      <td>left-news</td>\n",
       "      <td>Oct 4, 2016</td>\n",
       "    </tr>\n",
       "  </tbody>\n",
       "</table>\n",
       "</div>"
      ],
      "text/plain": [
       "                                               title  \\\n",
       "0   Sean Hannity Just Said Child Molestation Is O...   \n",
       "1                  Boiler Room EP #69 – CULTure Club   \n",
       "2   Chris Christie Takes Marco Rubio To The Woods...   \n",
       "3  FIVE FACTS About Benghazi That Hillary Doesn’t...   \n",
       "4      Stuck on Stupid: Why is America Starting WW3?   \n",
       "5  LOL! CONSERVATIVE COMEDIAN Steven Crowder Make...   \n",
       "6  ANOTHER WIN FOR TRUMP! Release Of Americans Ja...   \n",
       "7  FAKE CNN and MSNBC Caught Claiming “LIVE” Gues...   \n",
       "8  HILLARY CLINTON: We All Know She’s Deceitful A...   \n",
       "9  BREAKING: LIVE WIKILEAKS Announcement About Hi...   \n",
       "\n",
       "                                                text          subject  \\\n",
       "0  Republicans for some reason think it s perfect...             News   \n",
       "1  Tune in to the Alternate Current Radio Network...      Middle-east   \n",
       "2  Marco Rubio was looming large in New Hampshire...             News   \n",
       "3             FIVE FACTS ABOUT HILLARY AND BENGHAZI:  Government News   \n",
       "4  SARTRE 21st Century WireEvery day the world mo...          US_News   \n",
       "5  Hysterical! As always, conservative comedian S...        left-news   \n",
       "6  Another great move by the Trump administration...  Government News   \n",
       "7                                                            politics   \n",
       "8   She was an unethical, dishonest lawyer. She c...         politics   \n",
       "9   People have a right to understand who it is t...        left-news   \n",
       "\n",
       "               date  \n",
       "0  November 9, 2017  \n",
       "1   August 18, 2016  \n",
       "2  February 7, 2016  \n",
       "3      Jul 29, 2016  \n",
       "4  October 11, 2016  \n",
       "5      Jun 18, 2016  \n",
       "6      Apr 21, 2017  \n",
       "7      Mar 23, 2017  \n",
       "8      Apr 15, 2015  \n",
       "9       Oct 4, 2016  "
      ]
     },
     "execution_count": 24,
     "metadata": {},
     "output_type": "execute_result"
    }
   ],
   "source": [
    "df_fake_train = pd.read_csv('data\\\\Fake_training.csv')\n",
    "df_real_train = pd.read_csv('data\\\\True_training.csv')\n",
    "df_fake_test = pd.read_csv('data\\\\Fake_testing.csv')\n",
    "df_real_test = pd.read_csv('data\\\\True_testing.csv')\n",
    "\n",
    "df_real_test.head(10)"
   ]
  },
  {
   "cell_type": "code",
   "execution_count": 25,
   "id": "8f3e1d07",
   "metadata": {},
   "outputs": [
    {
     "data": {
      "text/html": [
       "<div>\n",
       "<style scoped>\n",
       "    .dataframe tbody tr th:only-of-type {\n",
       "        vertical-align: middle;\n",
       "    }\n",
       "\n",
       "    .dataframe tbody tr th {\n",
       "        vertical-align: top;\n",
       "    }\n",
       "\n",
       "    .dataframe thead th {\n",
       "        text-align: right;\n",
       "    }\n",
       "</style>\n",
       "<table border=\"1\" class=\"dataframe\">\n",
       "  <thead>\n",
       "    <tr style=\"text-align: right;\">\n",
       "      <th></th>\n",
       "      <th>title</th>\n",
       "      <th>text</th>\n",
       "      <th>subject</th>\n",
       "      <th>date</th>\n",
       "    </tr>\n",
       "  </thead>\n",
       "  <tbody>\n",
       "    <tr>\n",
       "      <th>0</th>\n",
       "      <td>Europe rights watchdog says Turkey's emergency...</td>\n",
       "      <td>BRUSSELS - A leading European rights watchdog ...</td>\n",
       "      <td>worldnews</td>\n",
       "      <td>October 6, 2017</td>\n",
       "    </tr>\n",
       "    <tr>\n",
       "      <th>1</th>\n",
       "      <td>Exclusive: Trump targets illegal immigrants wh...</td>\n",
       "      <td>- In September 2014, Gilberto Velasquez, a 38-...</td>\n",
       "      <td>politicsNews</td>\n",
       "      <td>June 9, 2017</td>\n",
       "    </tr>\n",
       "    <tr>\n",
       "      <th>2</th>\n",
       "      <td>At G20 summit, Trump pledges $639 million in a...</td>\n",
       "      <td>HAMBURG - U.S. President Donald Trump on Satur...</td>\n",
       "      <td>politicsNews</td>\n",
       "      <td>July 8, 2017</td>\n",
       "    </tr>\n",
       "    <tr>\n",
       "      <th>3</th>\n",
       "      <td>Ex-Christie associates lose bid for new trial ...</td>\n",
       "      <td>NEW YORK - A federal judge rejected a request ...</td>\n",
       "      <td>politicsNews</td>\n",
       "      <td>March 2, 2017</td>\n",
       "    </tr>\n",
       "    <tr>\n",
       "      <th>4</th>\n",
       "      <td>Young blacks more open to Bernie Sanders' Whit...</td>\n",
       "      <td>ORANGEBURG, S.C. - If Democratic hopeful Berni...</td>\n",
       "      <td>politicsNews</td>\n",
       "      <td>February 12, 2016</td>\n",
       "    </tr>\n",
       "  </tbody>\n",
       "</table>\n",
       "</div>"
      ],
      "text/plain": [
       "                                               title  \\\n",
       "0  Europe rights watchdog says Turkey's emergency...   \n",
       "1  Exclusive: Trump targets illegal immigrants wh...   \n",
       "2  At G20 summit, Trump pledges $639 million in a...   \n",
       "3  Ex-Christie associates lose bid for new trial ...   \n",
       "4  Young blacks more open to Bernie Sanders' Whit...   \n",
       "\n",
       "                                                text       subject  \\\n",
       "0  BRUSSELS - A leading European rights watchdog ...     worldnews   \n",
       "1  - In September 2014, Gilberto Velasquez, a 38-...  politicsNews   \n",
       "2  HAMBURG - U.S. President Donald Trump on Satur...  politicsNews   \n",
       "3  NEW YORK - A federal judge rejected a request ...  politicsNews   \n",
       "4  ORANGEBURG, S.C. - If Democratic hopeful Berni...  politicsNews   \n",
       "\n",
       "                 date  \n",
       "0    October 6, 2017   \n",
       "1       June 9, 2017   \n",
       "2       July 8, 2017   \n",
       "3      March 2, 2017   \n",
       "4  February 12, 2016   "
      ]
     },
     "execution_count": 25,
     "metadata": {},
     "output_type": "execute_result"
    }
   ],
   "source": [
    "df_real_train[\"text\"] = df_real_train[\"text\"].replace(r\"\\(Reuters\\)\\s*\", \"\", regex=True)\n",
    "df_real_test[\"text\"] = df_real_test[\"text\"].replace(r\"\\(Reuters\\)\\s*\", \"\", regex=True)\n",
    "df_real_train.head()"
   ]
  },
  {
   "cell_type": "code",
   "execution_count": 26,
   "id": "05319e89",
   "metadata": {},
   "outputs": [
    {
     "data": {
      "text/html": [
       "<div>\n",
       "<style scoped>\n",
       "    .dataframe tbody tr th:only-of-type {\n",
       "        vertical-align: middle;\n",
       "    }\n",
       "\n",
       "    .dataframe tbody tr th {\n",
       "        vertical-align: top;\n",
       "    }\n",
       "\n",
       "    .dataframe thead th {\n",
       "        text-align: right;\n",
       "    }\n",
       "</style>\n",
       "<table border=\"1\" class=\"dataframe\">\n",
       "  <thead>\n",
       "    <tr style=\"text-align: right;\">\n",
       "      <th></th>\n",
       "      <th>title</th>\n",
       "      <th>text</th>\n",
       "      <th>subject</th>\n",
       "      <th>date</th>\n",
       "      <th>label</th>\n",
       "    </tr>\n",
       "  </thead>\n",
       "  <tbody>\n",
       "    <tr>\n",
       "      <th>0</th>\n",
       "      <td>Sean Hannity Just Said Child Molestation Is O...</td>\n",
       "      <td>Republicans for some reason think it s perfect...</td>\n",
       "      <td>News</td>\n",
       "      <td>November 9, 2017</td>\n",
       "      <td>0</td>\n",
       "    </tr>\n",
       "    <tr>\n",
       "      <th>1</th>\n",
       "      <td>Boiler Room EP #69 – CULTure Club</td>\n",
       "      <td>Tune in to the Alternate Current Radio Network...</td>\n",
       "      <td>Middle-east</td>\n",
       "      <td>August 18, 2016</td>\n",
       "      <td>0</td>\n",
       "    </tr>\n",
       "    <tr>\n",
       "      <th>2</th>\n",
       "      <td>Chris Christie Takes Marco Rubio To The Woods...</td>\n",
       "      <td>Marco Rubio was looming large in New Hampshire...</td>\n",
       "      <td>News</td>\n",
       "      <td>February 7, 2016</td>\n",
       "      <td>0</td>\n",
       "    </tr>\n",
       "    <tr>\n",
       "      <th>3</th>\n",
       "      <td>FIVE FACTS About Benghazi That Hillary Doesn’t...</td>\n",
       "      <td>FIVE FACTS ABOUT HILLARY AND BENGHAZI:</td>\n",
       "      <td>Government News</td>\n",
       "      <td>Jul 29, 2016</td>\n",
       "      <td>0</td>\n",
       "    </tr>\n",
       "    <tr>\n",
       "      <th>4</th>\n",
       "      <td>Stuck on Stupid: Why is America Starting WW3?</td>\n",
       "      <td>SARTRE 21st Century WireEvery day the world mo...</td>\n",
       "      <td>US_News</td>\n",
       "      <td>October 11, 2016</td>\n",
       "      <td>0</td>\n",
       "    </tr>\n",
       "  </tbody>\n",
       "</table>\n",
       "</div>"
      ],
      "text/plain": [
       "                                               title  \\\n",
       "0   Sean Hannity Just Said Child Molestation Is O...   \n",
       "1                  Boiler Room EP #69 – CULTure Club   \n",
       "2   Chris Christie Takes Marco Rubio To The Woods...   \n",
       "3  FIVE FACTS About Benghazi That Hillary Doesn’t...   \n",
       "4      Stuck on Stupid: Why is America Starting WW3?   \n",
       "\n",
       "                                                text          subject  \\\n",
       "0  Republicans for some reason think it s perfect...             News   \n",
       "1  Tune in to the Alternate Current Radio Network...      Middle-east   \n",
       "2  Marco Rubio was looming large in New Hampshire...             News   \n",
       "3             FIVE FACTS ABOUT HILLARY AND BENGHAZI:  Government News   \n",
       "4  SARTRE 21st Century WireEvery day the world mo...          US_News   \n",
       "\n",
       "               date  label  \n",
       "0  November 9, 2017      0  \n",
       "1   August 18, 2016      0  \n",
       "2  February 7, 2016      0  \n",
       "3      Jul 29, 2016      0  \n",
       "4  October 11, 2016      0  "
      ]
     },
     "execution_count": 26,
     "metadata": {},
     "output_type": "execute_result"
    }
   ],
   "source": [
    "df_real_train['label'] = 1\n",
    "df_fake_train['label'] = 0\n",
    "df_fake_test['label'] = 0\n",
    "df_real_test['label'] = 1\n",
    "\n",
    "df_fake_test.head()"
   ]
  },
  {
   "cell_type": "code",
   "execution_count": 27,
   "id": "1fb35d5d",
   "metadata": {},
   "outputs": [
    {
     "name": "stdout",
     "output_type": "stream",
     "text": [
      "14088 12850\n"
     ]
    }
   ],
   "source": [
    "print(len(df_fake_train), len(df_real_train))"
   ]
  },
  {
   "cell_type": "code",
   "execution_count": 28,
   "id": "fef819bd",
   "metadata": {},
   "outputs": [
    {
     "data": {
      "text/plain": [
       "'\\ndf_fake_manual_testing = df_fake.tail(10)\\nfor i in range(14087,14077,-1):\\n    df_fake.drop([i], axis = 0, inplace = True)\\n    \\ndf_real_manual_testing = df_real.tail(10)\\nfor i in range(12849, 12839, -1):\\n    df_real.drop([i], axis = 0, inplace = True)\\n'"
      ]
     },
     "execution_count": 28,
     "metadata": {},
     "output_type": "execute_result"
    }
   ],
   "source": [
    "'''\n",
    "df_fake_manual_testing = df_fake.tail(10)\n",
    "for i in range(14087,14077,-1):\n",
    "    df_fake.drop([i], axis = 0, inplace = True)\n",
    "    \n",
    "df_real_manual_testing = df_real.tail(10)\n",
    "for i in range(12849, 12839, -1):\n",
    "    df_real.drop([i], axis = 0, inplace = True)\n",
    "'''"
   ]
  },
  {
   "cell_type": "code",
   "execution_count": 29,
   "id": "aaa8d783",
   "metadata": {},
   "outputs": [
    {
     "name": "stdout",
     "output_type": "stream",
     "text": [
      "9393 8567\n"
     ]
    }
   ],
   "source": [
    "print(len(df_fake_test), len(df_real_test))"
   ]
  },
  {
   "cell_type": "code",
   "execution_count": 30,
   "id": "b6b2b71e",
   "metadata": {},
   "outputs": [],
   "source": [
    "#df_fake_manual_testing.head()"
   ]
  },
  {
   "cell_type": "code",
   "execution_count": 31,
   "id": "2b592262",
   "metadata": {},
   "outputs": [],
   "source": [
    "#df_manual_testing = pd.concat([df_fake_manual_testing,df_real_manual_testing], axis = 0)\n",
    "#df_manual_testing.to_csv(\"data\\\\manual_testing_new.csv\")"
   ]
  },
  {
   "cell_type": "code",
   "execution_count": 32,
   "id": "40f51841",
   "metadata": {},
   "outputs": [
    {
     "data": {
      "text/html": [
       "<div>\n",
       "<style scoped>\n",
       "    .dataframe tbody tr th:only-of-type {\n",
       "        vertical-align: middle;\n",
       "    }\n",
       "\n",
       "    .dataframe tbody tr th {\n",
       "        vertical-align: top;\n",
       "    }\n",
       "\n",
       "    .dataframe thead th {\n",
       "        text-align: right;\n",
       "    }\n",
       "</style>\n",
       "<table border=\"1\" class=\"dataframe\">\n",
       "  <thead>\n",
       "    <tr style=\"text-align: right;\">\n",
       "      <th></th>\n",
       "      <th>title</th>\n",
       "      <th>text</th>\n",
       "      <th>subject</th>\n",
       "      <th>date</th>\n",
       "      <th>label</th>\n",
       "    </tr>\n",
       "  </thead>\n",
       "  <tbody>\n",
       "    <tr>\n",
       "      <th>0</th>\n",
       "      <td>Europe rights watchdog says Turkey's emergency...</td>\n",
       "      <td>BRUSSELS - A leading European rights watchdog ...</td>\n",
       "      <td>worldnews</td>\n",
       "      <td>October 6, 2017</td>\n",
       "      <td>1</td>\n",
       "    </tr>\n",
       "    <tr>\n",
       "      <th>1</th>\n",
       "      <td>Exclusive: Trump targets illegal immigrants wh...</td>\n",
       "      <td>- In September 2014, Gilberto Velasquez, a 38-...</td>\n",
       "      <td>politicsNews</td>\n",
       "      <td>June 9, 2017</td>\n",
       "      <td>1</td>\n",
       "    </tr>\n",
       "    <tr>\n",
       "      <th>2</th>\n",
       "      <td>At G20 summit, Trump pledges $639 million in a...</td>\n",
       "      <td>HAMBURG - U.S. President Donald Trump on Satur...</td>\n",
       "      <td>politicsNews</td>\n",
       "      <td>July 8, 2017</td>\n",
       "      <td>1</td>\n",
       "    </tr>\n",
       "    <tr>\n",
       "      <th>3</th>\n",
       "      <td>Ex-Christie associates lose bid for new trial ...</td>\n",
       "      <td>NEW YORK - A federal judge rejected a request ...</td>\n",
       "      <td>politicsNews</td>\n",
       "      <td>March 2, 2017</td>\n",
       "      <td>1</td>\n",
       "    </tr>\n",
       "    <tr>\n",
       "      <th>4</th>\n",
       "      <td>Young blacks more open to Bernie Sanders' Whit...</td>\n",
       "      <td>ORANGEBURG, S.C. - If Democratic hopeful Berni...</td>\n",
       "      <td>politicsNews</td>\n",
       "      <td>February 12, 2016</td>\n",
       "      <td>1</td>\n",
       "    </tr>\n",
       "    <tr>\n",
       "      <th>5</th>\n",
       "      <td>New York attorney general says will sue over O...</td>\n",
       "      <td>- New York state Attorney General Eric Schneid...</td>\n",
       "      <td>politicsNews</td>\n",
       "      <td>July 17, 2017</td>\n",
       "      <td>1</td>\n",
       "    </tr>\n",
       "    <tr>\n",
       "      <th>6</th>\n",
       "      <td>Indonesian parliament speaker quits amid graft...</td>\n",
       "      <td>JAKARTA - The speaker of Indonesia s parliamen...</td>\n",
       "      <td>worldnews</td>\n",
       "      <td>December 11, 2017</td>\n",
       "      <td>1</td>\n",
       "    </tr>\n",
       "    <tr>\n",
       "      <th>7</th>\n",
       "      <td>Spanish lender Sabadell to transfer legal base...</td>\n",
       "      <td>MADRID - Spanish lender Sabadell decided on Th...</td>\n",
       "      <td>worldnews</td>\n",
       "      <td>October 5, 2017</td>\n",
       "      <td>1</td>\n",
       "    </tr>\n",
       "    <tr>\n",
       "      <th>8</th>\n",
       "      <td>House speaker tells Trump healthcare bill lack...</td>\n",
       "      <td>WASHINGTON - U.S. House Speaker Paul Ryan told...</td>\n",
       "      <td>politicsNews</td>\n",
       "      <td>March 24, 2017</td>\n",
       "      <td>1</td>\n",
       "    </tr>\n",
       "    <tr>\n",
       "      <th>9</th>\n",
       "      <td>Britain says expects most EU citizens can stay...</td>\n",
       "      <td>LONDON - The British government said on Tuesda...</td>\n",
       "      <td>worldnews</td>\n",
       "      <td>November 7, 2017</td>\n",
       "      <td>1</td>\n",
       "    </tr>\n",
       "  </tbody>\n",
       "</table>\n",
       "</div>"
      ],
      "text/plain": [
       "                                               title  \\\n",
       "0  Europe rights watchdog says Turkey's emergency...   \n",
       "1  Exclusive: Trump targets illegal immigrants wh...   \n",
       "2  At G20 summit, Trump pledges $639 million in a...   \n",
       "3  Ex-Christie associates lose bid for new trial ...   \n",
       "4  Young blacks more open to Bernie Sanders' Whit...   \n",
       "5  New York attorney general says will sue over O...   \n",
       "6  Indonesian parliament speaker quits amid graft...   \n",
       "7  Spanish lender Sabadell to transfer legal base...   \n",
       "8  House speaker tells Trump healthcare bill lack...   \n",
       "9  Britain says expects most EU citizens can stay...   \n",
       "\n",
       "                                                text       subject  \\\n",
       "0  BRUSSELS - A leading European rights watchdog ...     worldnews   \n",
       "1  - In September 2014, Gilberto Velasquez, a 38-...  politicsNews   \n",
       "2  HAMBURG - U.S. President Donald Trump on Satur...  politicsNews   \n",
       "3  NEW YORK - A federal judge rejected a request ...  politicsNews   \n",
       "4  ORANGEBURG, S.C. - If Democratic hopeful Berni...  politicsNews   \n",
       "5  - New York state Attorney General Eric Schneid...  politicsNews   \n",
       "6  JAKARTA - The speaker of Indonesia s parliamen...     worldnews   \n",
       "7  MADRID - Spanish lender Sabadell decided on Th...     worldnews   \n",
       "8  WASHINGTON - U.S. House Speaker Paul Ryan told...  politicsNews   \n",
       "9  LONDON - The British government said on Tuesda...     worldnews   \n",
       "\n",
       "                 date  label  \n",
       "0    October 6, 2017       1  \n",
       "1       June 9, 2017       1  \n",
       "2       July 8, 2017       1  \n",
       "3      March 2, 2017       1  \n",
       "4  February 12, 2016       1  \n",
       "5      July 17, 2017       1  \n",
       "6  December 11, 2017       1  \n",
       "7    October 5, 2017       1  \n",
       "8     March 24, 2017       1  \n",
       "9   November 7, 2017       1  "
      ]
     },
     "execution_count": 32,
     "metadata": {},
     "output_type": "execute_result"
    }
   ],
   "source": [
    "df = pd.concat([df_real_train, df_fake_train], axis = 0)\n",
    "df_test = pd.concat([df_real_test, df_fake_test], axis = 0)\n",
    "df.head(10)"
   ]
  },
  {
   "cell_type": "code",
   "execution_count": 33,
   "id": "78472258",
   "metadata": {},
   "outputs": [
    {
     "data": {
      "text/plain": [
       "Index(['title', 'text', 'subject', 'date', 'label'], dtype='object')"
      ]
     },
     "execution_count": 33,
     "metadata": {},
     "output_type": "execute_result"
    }
   ],
   "source": [
    "df.columns"
   ]
  },
  {
   "cell_type": "code",
   "execution_count": 34,
   "id": "216e308b",
   "metadata": {},
   "outputs": [],
   "source": [
    "df = df.drop([\"title\", \"subject\",\"date\"], axis = 1)\n",
    "df_test = df_test.drop([\"title\", \"subject\",\"date\"], axis = 1)"
   ]
  },
  {
   "cell_type": "code",
   "execution_count": 35,
   "id": "a4774f20",
   "metadata": {},
   "outputs": [
    {
     "data": {
      "text/plain": [
       "text     0\n",
       "label    0\n",
       "dtype: int64"
      ]
     },
     "execution_count": 35,
     "metadata": {},
     "output_type": "execute_result"
    }
   ],
   "source": [
    "df.isnull().sum()\n"
   ]
  },
  {
   "cell_type": "code",
   "execution_count": 36,
   "id": "f84690d5",
   "metadata": {},
   "outputs": [
    {
     "data": {
      "text/plain": [
       "text     0\n",
       "label    0\n",
       "dtype: int64"
      ]
     },
     "execution_count": 36,
     "metadata": {},
     "output_type": "execute_result"
    }
   ],
   "source": [
    "df_test.isnull().sum()"
   ]
  },
  {
   "cell_type": "code",
   "execution_count": 37,
   "id": "5030bffa",
   "metadata": {},
   "outputs": [],
   "source": [
    "df = df.sample(frac = 1)"
   ]
  },
  {
   "cell_type": "code",
   "execution_count": 38,
   "id": "ff23fff7",
   "metadata": {},
   "outputs": [
    {
     "data": {
      "text/html": [
       "<div>\n",
       "<style scoped>\n",
       "    .dataframe tbody tr th:only-of-type {\n",
       "        vertical-align: middle;\n",
       "    }\n",
       "\n",
       "    .dataframe tbody tr th {\n",
       "        vertical-align: top;\n",
       "    }\n",
       "\n",
       "    .dataframe thead th {\n",
       "        text-align: right;\n",
       "    }\n",
       "</style>\n",
       "<table border=\"1\" class=\"dataframe\">\n",
       "  <thead>\n",
       "    <tr style=\"text-align: right;\">\n",
       "      <th></th>\n",
       "      <th>text</th>\n",
       "      <th>label</th>\n",
       "    </tr>\n",
       "  </thead>\n",
       "  <tbody>\n",
       "    <tr>\n",
       "      <th>5962</th>\n",
       "      <td>YANGON - One person was killed on Thursday in ...</td>\n",
       "      <td>1</td>\n",
       "    </tr>\n",
       "    <tr>\n",
       "      <th>1983</th>\n",
       "      <td>Now that former reality television star, seria...</td>\n",
       "      <td>0</td>\n",
       "    </tr>\n",
       "    <tr>\n",
       "      <th>12517</th>\n",
       "      <td>Donald Trump has long had a contentious relati...</td>\n",
       "      <td>0</td>\n",
       "    </tr>\n",
       "    <tr>\n",
       "      <th>13851</th>\n",
       "      <td>Being a xenophobic bigot and a confirmed fasci...</td>\n",
       "      <td>0</td>\n",
       "    </tr>\n",
       "    <tr>\n",
       "      <th>8826</th>\n",
       "      <td>Acting FBI Director Andrew McCabe is being inv...</td>\n",
       "      <td>0</td>\n",
       "    </tr>\n",
       "  </tbody>\n",
       "</table>\n",
       "</div>"
      ],
      "text/plain": [
       "                                                    text  label\n",
       "5962   YANGON - One person was killed on Thursday in ...      1\n",
       "1983   Now that former reality television star, seria...      0\n",
       "12517  Donald Trump has long had a contentious relati...      0\n",
       "13851  Being a xenophobic bigot and a confirmed fasci...      0\n",
       "8826   Acting FBI Director Andrew McCabe is being inv...      0"
      ]
     },
     "execution_count": 38,
     "metadata": {},
     "output_type": "execute_result"
    }
   ],
   "source": [
    "df.head()"
   ]
  },
  {
   "cell_type": "code",
   "execution_count": 39,
   "id": "ce253d48",
   "metadata": {},
   "outputs": [],
   "source": [
    "df.reset_index(inplace = True)\n"
   ]
  },
  {
   "cell_type": "code",
   "execution_count": 40,
   "id": "caabcccd",
   "metadata": {},
   "outputs": [
    {
     "data": {
      "text/html": [
       "<div>\n",
       "<style scoped>\n",
       "    .dataframe tbody tr th:only-of-type {\n",
       "        vertical-align: middle;\n",
       "    }\n",
       "\n",
       "    .dataframe tbody tr th {\n",
       "        vertical-align: top;\n",
       "    }\n",
       "\n",
       "    .dataframe thead th {\n",
       "        text-align: right;\n",
       "    }\n",
       "</style>\n",
       "<table border=\"1\" class=\"dataframe\">\n",
       "  <thead>\n",
       "    <tr style=\"text-align: right;\">\n",
       "      <th></th>\n",
       "      <th>text</th>\n",
       "      <th>label</th>\n",
       "    </tr>\n",
       "  </thead>\n",
       "  <tbody>\n",
       "    <tr>\n",
       "      <th>0</th>\n",
       "      <td>YANGON - One person was killed on Thursday in ...</td>\n",
       "      <td>1</td>\n",
       "    </tr>\n",
       "    <tr>\n",
       "      <th>1</th>\n",
       "      <td>Now that former reality television star, seria...</td>\n",
       "      <td>0</td>\n",
       "    </tr>\n",
       "    <tr>\n",
       "      <th>2</th>\n",
       "      <td>Donald Trump has long had a contentious relati...</td>\n",
       "      <td>0</td>\n",
       "    </tr>\n",
       "    <tr>\n",
       "      <th>3</th>\n",
       "      <td>Being a xenophobic bigot and a confirmed fasci...</td>\n",
       "      <td>0</td>\n",
       "    </tr>\n",
       "    <tr>\n",
       "      <th>4</th>\n",
       "      <td>Acting FBI Director Andrew McCabe is being inv...</td>\n",
       "      <td>0</td>\n",
       "    </tr>\n",
       "  </tbody>\n",
       "</table>\n",
       "</div>"
      ],
      "text/plain": [
       "                                                text  label\n",
       "0  YANGON - One person was killed on Thursday in ...      1\n",
       "1  Now that former reality television star, seria...      0\n",
       "2  Donald Trump has long had a contentious relati...      0\n",
       "3  Being a xenophobic bigot and a confirmed fasci...      0\n",
       "4  Acting FBI Director Andrew McCabe is being inv...      0"
      ]
     },
     "execution_count": 40,
     "metadata": {},
     "output_type": "execute_result"
    }
   ],
   "source": [
    "df.drop([\"index\"], axis = 1, inplace = True)\n",
    "#df.drop(['level_0'], axis = 1, inplace = True)\n",
    "df.head()"
   ]
  },
  {
   "cell_type": "code",
   "execution_count": 41,
   "id": "7bfad088",
   "metadata": {},
   "outputs": [
    {
     "data": {
      "text/plain": [
       "Index(['text', 'label'], dtype='object')"
      ]
     },
     "execution_count": 41,
     "metadata": {},
     "output_type": "execute_result"
    }
   ],
   "source": [
    "df.columns"
   ]
  },
  {
   "cell_type": "code",
   "execution_count": 42,
   "id": "a54cde64",
   "metadata": {},
   "outputs": [
    {
     "data": {
      "text/html": [
       "<div>\n",
       "<style scoped>\n",
       "    .dataframe tbody tr th:only-of-type {\n",
       "        vertical-align: middle;\n",
       "    }\n",
       "\n",
       "    .dataframe tbody tr th {\n",
       "        vertical-align: top;\n",
       "    }\n",
       "\n",
       "    .dataframe thead th {\n",
       "        text-align: right;\n",
       "    }\n",
       "</style>\n",
       "<table border=\"1\" class=\"dataframe\">\n",
       "  <thead>\n",
       "    <tr style=\"text-align: right;\">\n",
       "      <th></th>\n",
       "      <th>text</th>\n",
       "      <th>label</th>\n",
       "    </tr>\n",
       "  </thead>\n",
       "  <tbody>\n",
       "    <tr>\n",
       "      <th>0</th>\n",
       "      <td>YANGON - One person was killed on Thursday in ...</td>\n",
       "      <td>1</td>\n",
       "    </tr>\n",
       "    <tr>\n",
       "      <th>1</th>\n",
       "      <td>Now that former reality television star, seria...</td>\n",
       "      <td>0</td>\n",
       "    </tr>\n",
       "    <tr>\n",
       "      <th>2</th>\n",
       "      <td>Donald Trump has long had a contentious relati...</td>\n",
       "      <td>0</td>\n",
       "    </tr>\n",
       "    <tr>\n",
       "      <th>3</th>\n",
       "      <td>Being a xenophobic bigot and a confirmed fasci...</td>\n",
       "      <td>0</td>\n",
       "    </tr>\n",
       "    <tr>\n",
       "      <th>4</th>\n",
       "      <td>Acting FBI Director Andrew McCabe is being inv...</td>\n",
       "      <td>0</td>\n",
       "    </tr>\n",
       "  </tbody>\n",
       "</table>\n",
       "</div>"
      ],
      "text/plain": [
       "                                                text  label\n",
       "0  YANGON - One person was killed on Thursday in ...      1\n",
       "1  Now that former reality television star, seria...      0\n",
       "2  Donald Trump has long had a contentious relati...      0\n",
       "3  Being a xenophobic bigot and a confirmed fasci...      0\n",
       "4  Acting FBI Director Andrew McCabe is being inv...      0"
      ]
     },
     "execution_count": 42,
     "metadata": {},
     "output_type": "execute_result"
    }
   ],
   "source": [
    "df.head()"
   ]
  },
  {
   "cell_type": "code",
   "execution_count": 43,
   "id": "6a448d1c",
   "metadata": {},
   "outputs": [],
   "source": [
    "# Tiếp tục xử lý dữ liệu như bình thường\n",
    "def wordopt(text):\n",
    "    # Download stopwords nếu chưa có\n",
    "    try:\n",
    "        nltk.data.find('corpora/stopwords')\n",
    "    except LookupError:\n",
    "        nltk.download('stopwords')\n",
    "    \n",
    "    # Lấy danh sách stopwords tiếng Anh\n",
    "    stop_words = set(nltk.corpus.stopwords.words('english'))\n",
    "    \n",
    "    text = text.lower()  # Chuyển tất cả thành chữ thường\n",
    "    text = re.sub(r'\\[.*?\\]', '', text)  # Loại bỏ văn bản trong dấu ngoặc vuông\n",
    "    text = re.sub(r\"\\W\", \" \", text)  # Loại bỏ ký tự không phải chữ cái và số\n",
    "    text = re.sub(r'https?://\\S+|www\\.\\S+', '', text)  # Loại bỏ liên kết URL\n",
    "    text = re.sub(r'<.*?>', '', text)  # Loại bỏ các thẻ HTML\n",
    "    text = re.sub(r'[%s]' % re.escape(string.punctuation), '', text)  # Loại bỏ dấu câu\n",
    "    text = re.sub(r'\\n', '', text)  # Loại bỏ ký tự xuống dòng\n",
    "    text = re.sub(r'\\w*\\d\\w*', '', text)  # Loại bỏ từ có chứa số\n",
    "    \n",
    "    # Loại bỏ stopwords\n",
    "    words = text.split()\n",
    "    text = ' '.join([word for word in words if word not in stop_words])\n",
    "    \n",
    "    return text"
   ]
  },
  {
   "cell_type": "code",
   "execution_count": 44,
   "id": "170c4a3a",
   "metadata": {},
   "outputs": [
    {
     "name": "stdout",
     "output_type": "stream",
     "text": [
      "\n",
      "Thống kê ban đầu:\n",
      "Số lượng tin thật: 12850\n",
      "Số lượng tin giả: 14088\n"
     ]
    },
    {
     "data": {
      "image/png": "[encoded data removed]",
      "text/plain": [
       "<Figure size 1000x500 with 2 Axes>"
      ]
     },
     "metadata": {},
     "output_type": "display_data"
    },
    {
     "name": "stdout",
     "output_type": "stream",
     "text": [
      "\n",
      "Thống kê độ dài văn bản cho tin thật:\n",
      "count    12850.00000\n",
      "mean      2376.56786\n",
      "std       1692.24454\n",
      "min          1.00000\n",
      "25%        889.25000\n",
      "50%       2214.00000\n",
      "75%       3236.75000\n",
      "max      29771.00000\n",
      "Name: original_length, dtype: float64\n",
      "\n",
      "Thống kê độ dài văn bản cho tin giả:\n",
      "count    14088.000000\n",
      "mean      2543.159781\n",
      "std       2491.543303\n",
      "min          1.000000\n",
      "25%       1440.000000\n",
      "50%       2169.000000\n",
      "75%       3038.000000\n",
      "max      51794.000000\n",
      "Name: original_length, dtype: float64\n",
      "\n",
      "Số tin giả có độ dài > 20000: 43\n",
      "Số tin thật có độ dài > 20000: 1\n",
      "\n",
      "Thống kê sau khi xử lý wordopt - Tập Training:\n",
      "Số lượng tin thật: 12850\n",
      "Số lượng tin giả: 14088\n",
      "\n",
      "Thống kê độ dài văn bản sau wordopt cho tin thật (Training):\n",
      "count    12850.000000\n",
      "mean      1706.233230\n",
      "std       1203.095552\n",
      "min          0.000000\n",
      "25%        640.000000\n",
      "50%       1591.000000\n",
      "75%       2310.750000\n",
      "max      16995.000000\n",
      "Name: processed_length, dtype: float64\n",
      "\n",
      "Thống kê độ dài văn bản sau wordopt cho tin giả (Training):\n",
      "count    14088.000000\n",
      "mean      1720.141468\n",
      "std       1751.068898\n",
      "min          0.000000\n",
      "25%        975.000000\n",
      "50%       1458.000000\n",
      "75%       2042.000000\n",
      "max      38827.000000\n",
      "Name: processed_length, dtype: float64\n",
      "\n",
      "Thống kê sau khi xử lý wordopt - Tập Test:\n",
      "Số lượng tin thật: 8567\n",
      "Số lượng tin giả: 9393\n",
      "\n",
      "Thống kê sau khi xử lý wordopt - Tập Training:\n",
      "Số lượng tin thật: 12850\n",
      "Số lượng tin giả: 14088\n",
      "\n",
      "Thống kê độ dài văn bản sau wordopt cho tin thật (Training):\n",
      "count    12850.000000\n",
      "mean      1706.233230\n",
      "std       1203.095552\n",
      "min          0.000000\n",
      "25%        640.000000\n",
      "50%       1591.000000\n",
      "75%       2310.750000\n",
      "max      16995.000000\n",
      "Name: processed_length, dtype: float64\n",
      "\n",
      "Thống kê độ dài văn bản sau wordopt cho tin giả (Training):\n",
      "count    14088.000000\n",
      "mean      1720.141468\n",
      "std       1751.068898\n",
      "min          0.000000\n",
      "25%        975.000000\n",
      "50%       1458.000000\n",
      "75%       2042.000000\n",
      "max      38827.000000\n",
      "Name: processed_length, dtype: float64\n",
      "\n",
      "Thống kê sau khi xử lý wordopt - Tập Test:\n",
      "Số lượng tin thật: 8567\n",
      "Số lượng tin giả: 9393\n"
     ]
    },
    {
     "data": {
      "image/png": "[encoded data removed]",
      "text/plain": [
       "<Figure size 1000x500 with 2 Axes>"
      ]
     },
     "metadata": {},
     "output_type": "display_data"
    },
    {
     "name": "stdout",
     "output_type": "stream",
     "text": [
      "\n",
      "Thống kê độ dài văn bản sau wordopt cho tin thật (Test):\n",
      "count     8567.000000\n",
      "mean      1703.238123\n",
      "std       1190.529841\n",
      "min        109.000000\n",
      "25%        667.500000\n",
      "50%       1582.000000\n",
      "75%       2313.500000\n",
      "max      13913.000000\n",
      "Name: processed_length, dtype: float64\n",
      "\n",
      "Thống kê độ dài văn bản sau wordopt cho tin giả (Test):\n",
      "count     9393.000000\n",
      "mean      1727.506228\n",
      "std       1817.052290\n",
      "min          0.000000\n",
      "25%        956.000000\n",
      "50%       1447.000000\n",
      "75%       2029.000000\n",
      "max      38827.000000\n",
      "Name: processed_length, dtype: float64\n"
     ]
    },
    {
     "data": {
      "text/html": [
       "<div>\n",
       "<style scoped>\n",
       "    .dataframe tbody tr th:only-of-type {\n",
       "        vertical-align: middle;\n",
       "    }\n",
       "\n",
       "    .dataframe tbody tr th {\n",
       "        vertical-align: top;\n",
       "    }\n",
       "\n",
       "    .dataframe thead th {\n",
       "        text-align: right;\n",
       "    }\n",
       "</style>\n",
       "<table border=\"1\" class=\"dataframe\">\n",
       "  <thead>\n",
       "    <tr style=\"text-align: right;\">\n",
       "      <th></th>\n",
       "      <th>text</th>\n",
       "      <th>label</th>\n",
       "    </tr>\n",
       "  </thead>\n",
       "  <tbody>\n",
       "    <tr>\n",
       "      <th>0</th>\n",
       "      <td>yangon one person killed thursday massive fire...</td>\n",
       "      <td>1</td>\n",
       "    </tr>\n",
       "    <tr>\n",
       "      <th>1</th>\n",
       "      <td>former reality television star serial rapist a...</td>\n",
       "      <td>0</td>\n",
       "    </tr>\n",
       "    <tr>\n",
       "      <th>2</th>\n",
       "      <td>donald trump long contentious relationship pre...</td>\n",
       "      <td>0</td>\n",
       "    </tr>\n",
       "    <tr>\n",
       "      <th>3</th>\n",
       "      <td>xenophobic bigot confirmed fascist enough dona...</td>\n",
       "      <td>0</td>\n",
       "    </tr>\n",
       "    <tr>\n",
       "      <th>4</th>\n",
       "      <td>acting fbi director andrew mccabe investigated...</td>\n",
       "      <td>0</td>\n",
       "    </tr>\n",
       "  </tbody>\n",
       "</table>\n",
       "</div>"
      ],
      "text/plain": [
       "                                                text  label\n",
       "0  yangon one person killed thursday massive fire...      1\n",
       "1  former reality television star serial rapist a...      0\n",
       "2  donald trump long contentious relationship pre...      0\n",
       "3  xenophobic bigot confirmed fascist enough dona...      0\n",
       "4  acting fbi director andrew mccabe investigated...      0"
      ]
     },
     "execution_count": 44,
     "metadata": {},
     "output_type": "execute_result"
    }
   ],
   "source": [
    "# Tính độ dài văn bản trước khi xử lý\n",
    "df['original_length'] = df['text'].str.len()\n",
    "\n",
    "# In thống kê về độ dài văn bản ban đầu\n",
    "print(\"\\nThống kê ban đầu:\")\n",
    "print(\"Số lượng tin thật:\", len(df[df['label'] == 1]))\n",
    "print(\"Số lượng tin giả:\", len(df[df['label'] == 0]))\n",
    "\n",
    "# 1. Phân tích phân bố dữ liệu\n",
    "plt.figure(figsize=(10, 5))\n",
    "plt.subplot(1, 2, 1)\n",
    "sns.countplot(data=df, x='label')\n",
    "plt.title('Phân bố tin thật/tin giả trong tập training')\n",
    "plt.xlabel('Label (0: Tin giả, 1: Tin thật)')\n",
    "plt.ylabel('Số lượng')\n",
    "\n",
    "# 2. Phân tích độ dài văn bản\n",
    "plt.subplot(1, 2, 2)\n",
    "sns.boxplot(data=df, x='label', y='original_length')\n",
    "plt.title('Phân bố độ dài văn bản theo nhãn')\n",
    "plt.xlabel('Label (0: Tin giả, 1: Tin thật)')\n",
    "plt.ylabel('Độ dài văn bản')\n",
    "plt.tight_layout()\n",
    "plt.show()\n",
    "\n",
    "# In thống kê chi tiết về độ dài văn bản\n",
    "print(\"\\nThống kê độ dài văn bản cho tin thật:\")\n",
    "print(df[df['label'] == 1]['original_length'].describe())\n",
    "print(\"\\nThống kê độ dài văn bản cho tin giả:\")\n",
    "print(df[df['label'] == 0]['original_length'].describe())\n",
    "\n",
    "# In số lượng tin có độ dài > 20000 (chỉ để tham khảo)\n",
    "print(\"\\nSố tin giả có độ dài > 20000:\", len(df[(df['label'] == 0) & (df['original_length'] > 20000)]))\n",
    "print(\"Số tin thật có độ dài > 20000:\", len(df[(df['label'] == 1) & (df['original_length'] > 20000)]))\n",
    "\n",
    "# Xóa cột original_length vì không cần nữa\n",
    "df = df.drop('original_length', axis=1)\n",
    "\n",
    "# Xử lý văn bản bằng hàm wordopt\n",
    "df[\"text\"] = df[\"text\"].apply(wordopt)\n",
    "df_test[\"text\"] = df_test[\"text\"].apply(wordopt)\n",
    "\n",
    "# Thống kê độ dài sau khi xử lý wordopt\n",
    "df['processed_length'] = df['text'].str.len()\n",
    "df_test['processed_length'] = df_test['text'].str.len()\n",
    "\n",
    "# Thống kê cho tập training\n",
    "print(\"\\nThống kê sau khi xử lý wordopt - Tập Training:\")\n",
    "print(\"Số lượng tin thật:\", len(df[df['label'] == 1]))\n",
    "print(\"Số lượng tin giả:\", len(df[df['label'] == 0]))\n",
    "\n",
    "# Vẽ biểu đồ phân bố độ dài sau khi xử lý cho tập training\n",
    "plt.figure(figsize=(10, 5))\n",
    "plt.subplot(1, 2, 1)\n",
    "sns.boxplot(data=df, x='label', y='processed_length')\n",
    "plt.title('Phân bố độ dài văn bản sau wordopt (Training)')\n",
    "plt.xlabel('Label (0: Tin giả, 1: Tin thật)')\n",
    "plt.ylabel('Độ dài văn bản')\n",
    "\n",
    "# Thống kê chi tiết cho tập training\n",
    "print(\"\\nThống kê độ dài văn bản sau wordopt cho tin thật (Training):\")\n",
    "print(df[df['label'] == 1]['processed_length'].describe())\n",
    "print(\"\\nThống kê độ dài văn bản sau wordopt cho tin giả (Training):\")\n",
    "print(df[df['label'] == 0]['processed_length'].describe())\n",
    "\n",
    "# Thống kê cho tập test\n",
    "print(\"\\nThống kê sau khi xử lý wordopt - Tập Test:\")\n",
    "print(\"Số lượng tin thật:\", len(df_test[df_test['label'] == 1]))\n",
    "print(\"Số lượng tin giả:\", len(df_test[df_test['label'] == 0]))\n",
    "\n",
    "# Vẽ biểu đồ phân bố độ dài sau khi xử lý cho tập test\n",
    "plt.subplot(1, 2, 2)\n",
    "sns.boxplot(data=df_test, x='label', y='processed_length')\n",
    "plt.title('Phân bố độ dài văn bản sau wordopt (Test)')\n",
    "plt.xlabel('Label (0: Tin giả, 1: Tin thật)')\n",
    "plt.ylabel('Độ dài văn bản')\n",
    "plt.tight_layout()\n",
    "plt.show()\n",
    "\n",
    "# Thống kê chi tiết cho tập test\n",
    "print(\"\\nThống kê độ dài văn bản sau wordopt cho tin thật (Test):\")\n",
    "print(df_test[df_test['label'] == 1]['processed_length'].describe())\n",
    "print(\"\\nThống kê độ dài văn bản sau wordopt cho tin giả (Test):\")\n",
    "print(df_test[df_test['label'] == 0]['processed_length'].describe())\n",
    "\n",
    "# Xóa cột processed_length vì không cần nữa\n",
    "df = df.drop('processed_length', axis=1)\n",
    "df_test = df_test.drop('processed_length', axis=1)\n",
    "\n",
    "df.head()"
   ]
  },
  {
   "cell_type": "code",
   "execution_count": 45,
   "id": "04ef4755",
   "metadata": {},
   "outputs": [],
   "source": [
    "x_train = df[\"text\"]\n",
    "y_train = df[\"label\"]\n",
    "x_test = df_test[\"text\"]\n",
    "y_test = df_test[\"label\"]"
   ]
  },
  {
   "cell_type": "code",
   "execution_count": null,
   "id": "1b453fe7",
   "metadata": {},
   "outputs": [],
   "source": [
    "#x_train, x_test, y_train, y_test = train_test_split(x, y, test_size=0.25)"
   ]
  },
  {
   "cell_type": "code",
   "execution_count": 46,
   "id": "923a83b6",
   "metadata": {},
   "outputs": [],
   "source": [
    "from sklearn.feature_extraction.text import TfidfVectorizer\n",
    "\n",
    "vectorization = TfidfVectorizer()\n",
    "xv_train = vectorization.fit_transform(x_train)\n",
    "xv_test = vectorization.transform(x_test)"
   ]
  },
  {
   "cell_type": "code",
   "execution_count": 47,
   "id": "34f51fee",
   "metadata": {},
   "outputs": [],
   "source": [
    "# Trích xuất độ dài văn bản cho tập training và test\n",
    "text_length_train = df['text'].apply(len)\n",
    "text_length_test = df_test['text'].apply(len)\n",
    "\n",
    "# Kết hợp feature độ dài với TF-IDF features\n",
    "xv_train_with_length = scipy.sparse.hstack([\n",
    "    xv_train,\n",
    "    scipy.sparse.csr_matrix(text_length_train.values.reshape(-1, 1))\n",
    "])\n",
    "\n",
    "xv_test_with_length = scipy.sparse.hstack([\n",
    "    xv_test,\n",
    "    scipy.sparse.csr_matrix(text_length_test.values.reshape(-1, 1))\n",
    "])"
   ]
  },
  {
   "cell_type": "markdown",
   "id": "08dfb849",
   "metadata": {},
   "source": [
    "LOGISTIC REGRESSION"
   ]
  },
  {
   "cell_type": "code",
   "execution_count": 48,
   "id": "2a5414e9",
   "metadata": {},
   "outputs": [
    {
     "name": "stdout",
     "output_type": "stream",
     "text": [
      "\n",
      "Logistic Regression với feature độ dài:\n",
      "Accuracy: 0.9733853006681514\n",
      "              precision    recall  f1-score   support\n",
      "\n",
      "           0       0.98      0.97      0.97      9393\n",
      "           1       0.97      0.98      0.97      8567\n",
      "\n",
      "    accuracy                           0.97     17960\n",
      "   macro avg       0.97      0.97      0.97     17960\n",
      "weighted avg       0.97      0.97      0.97     17960\n",
      "\n"
     ]
    }
   ],
   "source": [
    "from sklearn.linear_model import LogisticRegression\n",
    "\n",
    "LR = LogisticRegression()\n",
    "LR.fit(xv_train_with_length, y_train)\n",
    "pred_lr = LR.predict(xv_test_with_length)\n",
    "print(\"\\nLogistic Regression với feature độ dài:\")\n",
    "print(\"Accuracy:\", LR.score(xv_test_with_length, y_test))\n",
    "print(classification_report(y_test, pred_lr))"
   ]
  },
  {
   "cell_type": "markdown",
   "id": "5801205a",
   "metadata": {},
   "source": [
    "DECISION TREE CLASSIFICATION"
   ]
  },
  {
   "cell_type": "code",
   "execution_count": 50,
   "id": "6fd976ca",
   "metadata": {},
   "outputs": [
    {
     "name": "stdout",
     "output_type": "stream",
     "text": [
      "\n",
      "Decision Tree với feature độ dài:\n",
      "Accuracy: 0.9491648106904231\n",
      "              precision    recall  f1-score   support\n",
      "\n",
      "           0       0.94      0.96      0.95      9393\n",
      "           1       0.96      0.94      0.95      8567\n",
      "\n",
      "    accuracy                           0.95     17960\n",
      "   macro avg       0.95      0.95      0.95     17960\n",
      "weighted avg       0.95      0.95      0.95     17960\n",
      "\n"
     ]
    }
   ],
   "source": [
    "from sklearn.tree import DecisionTreeClassifier\n",
    "\n",
    "DT = DecisionTreeClassifier()\n",
    "DT.fit(xv_train_with_length, y_train)\n",
    "pred_dt = DT.predict(xv_test_with_length)\n",
    "print(\"\\nDecision Tree với feature độ dài:\")\n",
    "print(\"Accuracy:\", DT.score(xv_test_with_length, y_test))\n",
    "print(classification_report(y_test, pred_dt))"
   ]
  },
  {
   "cell_type": "markdown",
   "id": "acb57f3e",
   "metadata": {},
   "source": [
    "GRADIENT BOOSTING CLASSIFIER"
   ]
  },
  {
   "cell_type": "code",
   "execution_count": 49,
   "id": "27fcb7eb",
   "metadata": {},
   "outputs": [
    {
     "name": "stdout",
     "output_type": "stream",
     "text": [
      "\n",
      "Gradient Boosting với feature độ dài:\n",
      "Accuracy: 0.959576837416481\n",
      "              precision    recall  f1-score   support\n",
      "\n",
      "           0       0.96      0.96      0.96      9393\n",
      "           1       0.96      0.96      0.96      8567\n",
      "\n",
      "    accuracy                           0.96     17960\n",
      "   macro avg       0.96      0.96      0.96     17960\n",
      "weighted avg       0.96      0.96      0.96     17960\n",
      "\n"
     ]
    }
   ],
   "source": [
    "from sklearn.ensemble import GradientBoostingClassifier\n",
    "\n",
    "GBC = GradientBoostingClassifier(random_state=0)\n",
    "GBC.fit(xv_train_with_length, y_train)\n",
    "pred_gbc = GBC.predict(xv_test_with_length)\n",
    "print(\"\\nGradient Boosting với feature độ dài:\")\n",
    "print(\"Accuracy:\", GBC.score(xv_test_with_length, y_test))\n",
    "print(classification_report(y_test, pred_gbc))"
   ]
  },
  {
   "cell_type": "markdown",
   "id": "c20ed076",
   "metadata": {},
   "source": [
    "RANDOM FOREST CLASSIFIER"
   ]
  },
  {
   "cell_type": "code",
   "execution_count": 51,
   "id": "f2f9c889",
   "metadata": {},
   "outputs": [
    {
     "name": "stdout",
     "output_type": "stream",
     "text": [
      "\n",
      "Random Forest với feature độ dài:\n",
      "Accuracy: 0.9805679287305122\n",
      "              precision    recall  f1-score   support\n",
      "\n",
      "           0       0.98      0.98      0.98      9393\n",
      "           1       0.98      0.98      0.98      8567\n",
      "\n",
      "    accuracy                           0.98     17960\n",
      "   macro avg       0.98      0.98      0.98     17960\n",
      "weighted avg       0.98      0.98      0.98     17960\n",
      "\n",
      "Accuracy: 0.9805679287305122\n",
      "              precision    recall  f1-score   support\n",
      "\n",
      "           0       0.98      0.98      0.98      9393\n",
      "           1       0.98      0.98      0.98      8567\n",
      "\n",
      "    accuracy                           0.98     17960\n",
      "   macro avg       0.98      0.98      0.98     17960\n",
      "weighted avg       0.98      0.98      0.98     17960\n",
      "\n"
     ]
    }
   ],
   "source": [
    "from sklearn.ensemble import RandomForestClassifier\n",
    "\n",
    "RFC = RandomForestClassifier(random_state=0)\n",
    "RFC.fit(xv_train_with_length, y_train)\n",
    "pred_rfc = RFC.predict(xv_test_with_length)\n",
    "print(\"\\nRandom Forest với feature độ dài:\")\n",
    "print(\"Accuracy:\", RFC.score(xv_test_with_length, y_test))\n",
    "print(classification_report(y_test, pred_rfc))"
   ]
  },
  {
   "cell_type": "markdown",
   "id": "14498365",
   "metadata": {},
   "source": [
    "XGBOOST"
   ]
  },
  {
   "cell_type": "code",
   "execution_count": 52,
   "id": "c59beccd",
   "metadata": {},
   "outputs": [
    {
     "name": "stdout",
     "output_type": "stream",
     "text": [
      "\n",
      "XGBoost với feature độ dài:\n",
      "Accuracy: 0.9602449888641426\n",
      "              precision    recall  f1-score   support\n",
      "\n",
      "           0       0.96      0.96      0.96      9393\n",
      "           1       0.96      0.96      0.96      8567\n",
      "\n",
      "    accuracy                           0.96     17960\n",
      "   macro avg       0.96      0.96      0.96     17960\n",
      "weighted avg       0.96      0.96      0.96     17960\n",
      "\n"
     ]
    }
   ],
   "source": [
    "from xgboost import XGBClassifier\n",
    "\n",
    "XG = XGBClassifier(n_estimators=100, max_depth=3, learning_rate=0.1, n_jobs=-1)\n",
    "XG.fit(xv_train_with_length, y_train)\n",
    "pred_xg = XG.predict(xv_test_with_length)\n",
    "print(\"\\nXGBoost với feature độ dài:\")\n",
    "print(\"Accuracy:\", XG.score(xv_test_with_length, y_test))\n",
    "print(classification_report(y_test, pred_xg))"
   ]
  },
  {
   "cell_type": "markdown",
   "id": "6d3e55a2",
   "metadata": {},
   "source": [
    "TESTING MODEL"
   ]
  },
  {
   "cell_type": "code",
   "execution_count": null,
   "id": "0c9c3f15",
   "metadata": {},
   "outputs": [],
   "source": [
    "def output_lable(n):\n",
    "    if n == 0:\n",
    "        return \"Fake News\"\n",
    "    elif n == 1:\n",
    "        return \"Not A Fake News\"\n",
    "    \n",
    "def manual_testing(news):\n",
    "    news = re.sub(r\"\\(Reuters\\)\\s*\", '', news)\n",
    "    testing_news = {\"text\":[news]}\n",
    "    new_def_test = pd.DataFrame(testing_news)\n",
    "    new_def_test[\"text\"] = new_def_test[\"text\"].apply(wordopt) \n",
    "    new_x_test = new_def_test[\"text\"]\n",
    "    new_xv_test = vectorization.transform(new_x_test)\n",
    "    \n",
    "    # Thêm feature độ dài văn bản cho testing\n",
    "    text_length = len(new_def_test[\"text\"].iloc[0])\n",
    "    new_xv_test_with_length = scipy.sparse.hstack([\n",
    "        new_xv_test,\n",
    "        scipy.sparse.csr_matrix([[text_length]])\n",
    "    ])\n",
    "    \n",
    "    pred_LR = LR.predict(new_xv_test_with_length)\n",
    "    #pred_DT = DT.predict(new_xv_test_with_length)\n",
    "    #pred_GBC = GBC.predict(new_xv_test_with_length)\n",
    "    #pred_RFC = RFC.predict(new_xv_test_with_length)\n",
    "    #pred_XG = XG.predict(new_xv_test_with_length)\n",
    "    \n",
    "    return print(\"\\n\\nLR Prediction: {}\".format(output_lable(pred_LR[0])))\n",
    "\n",
    "new = str(input())\n",
    "manual_testing(new)"
   ]
  },
  {
   "cell_type": "code",
   "execution_count": 53,
   "id": "05305325",
   "metadata": {},
   "outputs": [
    {
     "data": {
      "image/png": "[encoded data removed]",
      "text/plain": [
       "<Figure size 1200x600 with 1 Axes>"
      ]
     },
     "metadata": {},
     "output_type": "display_data"
    },
    {
     "data": {
      "image/png": "[encoded data removed]",
      "text/plain": [
       "<Figure size 1200x600 with 1 Axes>"
      ]
     },
     "metadata": {},
     "output_type": "display_data"
    },
    {
     "data": {
      "image/png": "[encoded data removed]",
      "text/plain": [
       "<Figure size 800x600 with 2 Axes>"
      ]
     },
     "metadata": {},
     "output_type": "display_data"
    },
    {
     "data": {
      "image/png": "[encoded data removed]",
      "text/plain": [
       "<Figure size 1000x600 with 1 Axes>"
      ]
     },
     "metadata": {},
     "output_type": "display_data"
    },
    {
     "name": "stdout",
     "output_type": "stream",
     "text": [
      "\n",
      "Bảng so sánh chi tiết các mô hình:\n",
      "              Model  Accuracy  Precision  Recall  F1-Score\n",
      "Logistic Regression    0.9734     0.9732  0.9735    0.9733\n",
      "      Decision Tree    0.9492     0.9496  0.9486    0.9490\n",
      "  Gradient Boosting    0.9596     0.9594  0.9596    0.9595\n",
      "      Random Forest    0.9806     0.9805  0.9806    0.9805\n",
      "            XGBoost    0.9602     0.9601  0.9602    0.9602\n"
     ]
    }
   ],
   "source": [
    "# So sánh các mô hình\n",
    "models = {\n",
    "    'Logistic Regression': (LR, pred_lr),\n",
    "    'Decision Tree': (DT, pred_dt),\n",
    "    'Gradient Boosting': (GBC, pred_gbc),\n",
    "    'Random Forest': (RFC, pred_rfc),\n",
    "    'XGBoost': (XG, pred_xg)\n",
    "}\n",
    "\n",
    "# Tính toán các metrics cho từng mô hình\n",
    "results = []\n",
    "for name, (model, predictions) in models.items():\n",
    "    accuracy = accuracy_score(y_test, predictions)\n",
    "    report = classification_report(y_test, predictions, output_dict=True)\n",
    "    results.append({\n",
    "        'Model': name,\n",
    "        'Accuracy': accuracy,\n",
    "        'Precision': report['macro avg']['precision'],\n",
    "        'Recall': report['macro avg']['recall'],\n",
    "        'F1-Score': report['macro avg']['f1-score']\n",
    "    })\n",
    "\n",
    "results_df = pd.DataFrame(results)\n",
    "\n",
    "# 1. So sánh accuracy của các mô hình\n",
    "plt.figure(figsize=(12, 6))\n",
    "sns.barplot(data=results_df, x='Model', y='Accuracy')\n",
    "plt.title('So sánh độ chính xác của các mô hình')\n",
    "plt.xticks(rotation=45)\n",
    "plt.tight_layout()\n",
    "plt.show()\n",
    "\n",
    "# 2. So sánh các metrics khác nhau\n",
    "metrics = ['Accuracy', 'Precision', 'Recall', 'F1-Score']\n",
    "plt.figure(figsize=(12, 6))\n",
    "results_df_melted = results_df.melt(id_vars=['Model'], value_vars=metrics, var_name='Metric', value_name='Score')\n",
    "sns.barplot(data=results_df_melted, x='Model', y='Score', hue='Metric')\n",
    "plt.title('So sánh các metrics của các mô hình')\n",
    "plt.xticks(rotation=45)\n",
    "plt.legend(bbox_to_anchor=(1.05, 1), loc='upper left')\n",
    "plt.tight_layout()\n",
    "plt.show()\n",
    "\n",
    "# 3. Vẽ Confusion Matrix cho Random Forest (mô hình tốt nhất)\n",
    "plt.figure(figsize=(8, 6))\n",
    "cm = confusion_matrix(y_test, pred_rfc)\n",
    "sns.heatmap(cm, annot=True, fmt='d', cmap='Blues')\n",
    "plt.title('Confusion Matrix - Random Forest')\n",
    "plt.ylabel('Thực tế')\n",
    "plt.xlabel('Dự đoán')\n",
    "plt.show()\n",
    "\n",
    "# 4. So sánh ROC curves\n",
    "plt.figure(figsize=(10, 6))\n",
    "for name, (model, predictions) in models.items():\n",
    "    if hasattr(model, \"predict_proba\"):\n",
    "        y_pred_proba = model.predict_proba(xv_test_with_length)[:, 1]\n",
    "        fpr, tpr, _ = roc_curve(y_test, y_pred_proba)\n",
    "        roc_auc = auc(fpr, tpr)\n",
    "        plt.plot(fpr, tpr, label=f'{name} (AUC = {roc_auc:.2f})')\n",
    "\n",
    "plt.plot([0, 1], [0, 1], 'k--')\n",
    "plt.xlabel('False Positive Rate')\n",
    "plt.ylabel('True Positive Rate')\n",
    "plt.title('ROC Curves cho các mô hình')\n",
    "plt.legend(bbox_to_anchor=(1.05, 1), loc='upper left')\n",
    "plt.tight_layout()\n",
    "plt.show()\n",
    "\n",
    "# In bảng so sánh chi tiết\n",
    "print(\"\\nBảng so sánh chi tiết các mô hình:\")\n",
    "print(results_df.round(4).to_string(index=False))"
   ]
  }
 ],
 "metadata": {
  "kernelspec": {
   "display_name": "base",
   "language": "python",
   "name": "python3"
  },
  "language_info": {
   "codemirror_mode": {
    "name": "ipython",
    "version": 3
   },
   "file_extension": ".py",
   "mimetype": "text/x-python",
   "name": "python",
   "nbconvert_exporter": "python",
   "pygments_lexer": "ipython3",
   "version": "3.12.3"
  }
 },
 "nbformat": 4,
 "nbformat_minor": 5
}

{
 "cells": [
  {
   "cell_type": "code",
   "execution_count": 68,
   "id": "fcf57d93",
   "metadata": {},
   "outputs": [],
   "source": [
    "import pandas as pd\n",
    "import numpy as np\n",
    "import matplotlib.pyplot as plt\n",
    "import nltk\n",
    "import re\n",
    "import string\n",
    "from sklearn.model_selection import train_test_split\n",
    "from sklearn.metrics import accuracy_score\n",
    "from sklearn.metrics import classification_report\n",
    "import seaborn as sns\n",
    "from wordcloud import WordCloud\n",
    "import plotly.express as px\n",
    "import plotly.graph_objects as go\n",
    "from collections import Counter\n",
    "from sklearn.metrics import confusion_matrix, roc_curve, auc\n",
    "import warnings\n",
    "warnings.filterwarnings('ignore')\n",
    "import scipy.sparse"
   ]
  },
  {
   "cell_type": "code",
   "execution_count": 69,
   "id": "f502f6c9",
   "metadata": {},
   "outputs": [
    {
     "data": {
      "text/html": [
       "<div>\n",
       "<style scoped>\n",
       "    .dataframe tbody tr th:only-of-type {\n",
       "        vertical-align: middle;\n",
       "    }\n",
       "\n",
       "    .dataframe tbody tr th {\n",
       "        vertical-align: top;\n",
       "    }\n",
       "\n",
       "    .dataframe thead th {\n",
       "        text-align: right;\n",
       "    }\n",
       "</style>\n",
       "<table border=\"1\" class=\"dataframe\">\n",
       "  <thead>\n",
       "    <tr style=\"text-align: right;\">\n",
       "      <th></th>\n",
       "      <th>title</th>\n",
       "      <th>text</th>\n",
       "      <th>subject</th>\n",
       "      <th>date</th>\n",
       "    </tr>\n",
       "  </thead>\n",
       "  <tbody>\n",
       "    <tr>\n",
       "      <th>0</th>\n",
       "      <td>Turkish army expands deployment in Syria's nor...</td>\n",
       "      <td>AMMAN (Reuters) - The Turkish army is expandin...</td>\n",
       "      <td>worldnews</td>\n",
       "      <td>October 15, 2017</td>\n",
       "    </tr>\n",
       "    <tr>\n",
       "      <th>1</th>\n",
       "      <td>Trump to sign Russia sanctions bill: White House</td>\n",
       "      <td>WASHINGTON (Reuters) - U.S. President Donald T...</td>\n",
       "      <td>politicsNews</td>\n",
       "      <td>July 29, 2017</td>\n",
       "    </tr>\n",
       "    <tr>\n",
       "      <th>2</th>\n",
       "      <td>Danger of war, Germany warns after Trump's mov...</td>\n",
       "      <td>BERLIN (Reuters) - If the United States termin...</td>\n",
       "      <td>politicsNews</td>\n",
       "      <td>October 14, 2017</td>\n",
       "    </tr>\n",
       "    <tr>\n",
       "      <th>3</th>\n",
       "      <td>South Carolina Republican's town hall starts r...</td>\n",
       "      <td>NORTH CHARLESTON, S.C. (Reuters) - U.S. Senato...</td>\n",
       "      <td>politicsNews</td>\n",
       "      <td>February 25, 2017</td>\n",
       "    </tr>\n",
       "    <tr>\n",
       "      <th>4</th>\n",
       "      <td>UK PM May concerned by reports of sexual haras...</td>\n",
       "      <td>LONDON (Reuters) - British Prime Minister Ther...</td>\n",
       "      <td>worldnews</td>\n",
       "      <td>October 27, 2017</td>\n",
       "    </tr>\n",
       "    <tr>\n",
       "      <th>5</th>\n",
       "      <td>Trump backers' disparate hopes coalesce around...</td>\n",
       "      <td>WASHINGTON (Reuters) - The pomp and circumstan...</td>\n",
       "      <td>politicsNews</td>\n",
       "      <td>January 20, 2017</td>\n",
       "    </tr>\n",
       "    <tr>\n",
       "      <th>6</th>\n",
       "      <td>Brussels prosecutors to speak on ex-Catalan le...</td>\n",
       "      <td>BRUSSELS (Reuters) - Brussels prosecutors will...</td>\n",
       "      <td>worldnews</td>\n",
       "      <td>November 5, 2017</td>\n",
       "    </tr>\n",
       "    <tr>\n",
       "      <th>7</th>\n",
       "      <td>Republican wins Montana special election despi...</td>\n",
       "      <td>BOZEMAN, Mont. (Reuters) - Republican Greg Gia...</td>\n",
       "      <td>politicsNews</td>\n",
       "      <td>May 25, 2017</td>\n",
       "    </tr>\n",
       "    <tr>\n",
       "      <th>8</th>\n",
       "      <td>Hariri indicates possibility of revoking his r...</td>\n",
       "      <td>BEIRUT (Reuters) - Saad al-Hariri, who announc...</td>\n",
       "      <td>worldnews</td>\n",
       "      <td>November 12, 2017</td>\n",
       "    </tr>\n",
       "    <tr>\n",
       "      <th>9</th>\n",
       "      <td>Australia to move 200 asylum seekers to new PN...</td>\n",
       "      <td>SYDNEY (Reuters) - Approximately two hundred m...</td>\n",
       "      <td>worldnews</td>\n",
       "      <td>September 15, 2017</td>\n",
       "    </tr>\n",
       "  </tbody>\n",
       "</table>\n",
       "</div>"
      ],
      "text/plain": [
       "                                               title  \\\n",
       "0  Turkish army expands deployment in Syria's nor...   \n",
       "1   Trump to sign Russia sanctions bill: White House   \n",
       "2  Danger of war, Germany warns after Trump's mov...   \n",
       "3  South Carolina Republican's town hall starts r...   \n",
       "4  UK PM May concerned by reports of sexual haras...   \n",
       "5  Trump backers' disparate hopes coalesce around...   \n",
       "6  Brussels prosecutors to speak on ex-Catalan le...   \n",
       "7  Republican wins Montana special election despi...   \n",
       "8  Hariri indicates possibility of revoking his r...   \n",
       "9  Australia to move 200 asylum seekers to new PN...   \n",
       "\n",
       "                                                text       subject  \\\n",
       "0  AMMAN (Reuters) - The Turkish army is expandin...     worldnews   \n",
       "1  WASHINGTON (Reuters) - U.S. President Donald T...  politicsNews   \n",
       "2  BERLIN (Reuters) - If the United States termin...  politicsNews   \n",
       "3  NORTH CHARLESTON, S.C. (Reuters) - U.S. Senato...  politicsNews   \n",
       "4  LONDON (Reuters) - British Prime Minister Ther...     worldnews   \n",
       "5  WASHINGTON (Reuters) - The pomp and circumstan...  politicsNews   \n",
       "6  BRUSSELS (Reuters) - Brussels prosecutors will...     worldnews   \n",
       "7  BOZEMAN, Mont. (Reuters) - Republican Greg Gia...  politicsNews   \n",
       "8  BEIRUT (Reuters) - Saad al-Hariri, who announc...     worldnews   \n",
       "9  SYDNEY (Reuters) - Approximately two hundred m...     worldnews   \n",
       "\n",
       "                  date  \n",
       "0    October 15, 2017   \n",
       "1       July 29, 2017   \n",
       "2    October 14, 2017   \n",
       "3   February 25, 2017   \n",
       "4    October 27, 2017   \n",
       "5    January 20, 2017   \n",
       "6    November 5, 2017   \n",
       "7        May 25, 2017   \n",
       "8   November 12, 2017   \n",
       "9  September 15, 2017   "
      ]
     },
     "execution_count": 69,
     "metadata": {},
     "output_type": "execute_result"
    }
   ],
   "source": [
    "df_fake_train = pd.read_csv('data\\\\Fake_training.csv')\n",
    "df_real_train = pd.read_csv('data\\\\True_training.csv')\n",
    "df_fake_test = pd.read_csv('data\\\\Fake_testing.csv')\n",
    "df_real_test = pd.read_csv('data\\\\True_testing.csv')\n",
    "\n",
    "df_real_test.head(10)"
   ]
  },
  {
   "cell_type": "code",
   "execution_count": 70,
   "id": "8f3e1d07",
   "metadata": {},
   "outputs": [
    {
     "data": {
      "text/html": [
       "<div>\n",
       "<style scoped>\n",
       "    .dataframe tbody tr th:only-of-type {\n",
       "        vertical-align: middle;\n",
       "    }\n",
       "\n",
       "    .dataframe tbody tr th {\n",
       "        vertical-align: top;\n",
       "    }\n",
       "\n",
       "    .dataframe thead th {\n",
       "        text-align: right;\n",
       "    }\n",
       "</style>\n",
       "<table border=\"1\" class=\"dataframe\">\n",
       "  <thead>\n",
       "    <tr style=\"text-align: right;\">\n",
       "      <th></th>\n",
       "      <th>title</th>\n",
       "      <th>text</th>\n",
       "      <th>subject</th>\n",
       "      <th>date</th>\n",
       "    </tr>\n",
       "  </thead>\n",
       "  <tbody>\n",
       "    <tr>\n",
       "      <th>0</th>\n",
       "      <td>Europe rights watchdog says Turkey's emergency...</td>\n",
       "      <td>BRUSSELS - A leading European rights watchdog ...</td>\n",
       "      <td>worldnews</td>\n",
       "      <td>October 6, 2017</td>\n",
       "    </tr>\n",
       "    <tr>\n",
       "      <th>1</th>\n",
       "      <td>Exclusive: Trump targets illegal immigrants wh...</td>\n",
       "      <td>- In September 2014, Gilberto Velasquez, a 38-...</td>\n",
       "      <td>politicsNews</td>\n",
       "      <td>June 9, 2017</td>\n",
       "    </tr>\n",
       "    <tr>\n",
       "      <th>2</th>\n",
       "      <td>At G20 summit, Trump pledges $639 million in a...</td>\n",
       "      <td>HAMBURG - U.S. President Donald Trump on Satur...</td>\n",
       "      <td>politicsNews</td>\n",
       "      <td>July 8, 2017</td>\n",
       "    </tr>\n",
       "    <tr>\n",
       "      <th>3</th>\n",
       "      <td>Ex-Christie associates lose bid for new trial ...</td>\n",
       "      <td>NEW YORK - A federal judge rejected a request ...</td>\n",
       "      <td>politicsNews</td>\n",
       "      <td>March 2, 2017</td>\n",
       "    </tr>\n",
       "    <tr>\n",
       "      <th>4</th>\n",
       "      <td>Young blacks more open to Bernie Sanders' Whit...</td>\n",
       "      <td>ORANGEBURG, S.C. - If Democratic hopeful Berni...</td>\n",
       "      <td>politicsNews</td>\n",
       "      <td>February 12, 2016</td>\n",
       "    </tr>\n",
       "  </tbody>\n",
       "</table>\n",
       "</div>"
      ],
      "text/plain": [
       "                                               title  \\\n",
       "0  Europe rights watchdog says Turkey's emergency...   \n",
       "1  Exclusive: Trump targets illegal immigrants wh...   \n",
       "2  At G20 summit, Trump pledges $639 million in a...   \n",
       "3  Ex-Christie associates lose bid for new trial ...   \n",
       "4  Young blacks more open to Bernie Sanders' Whit...   \n",
       "\n",
       "                                                text       subject  \\\n",
       "0  BRUSSELS - A leading European rights watchdog ...     worldnews   \n",
       "1  - In September 2014, Gilberto Velasquez, a 38-...  politicsNews   \n",
       "2  HAMBURG - U.S. President Donald Trump on Satur...  politicsNews   \n",
       "3  NEW YORK - A federal judge rejected a request ...  politicsNews   \n",
       "4  ORANGEBURG, S.C. - If Democratic hopeful Berni...  politicsNews   \n",
       "\n",
       "                 date  \n",
       "0    October 6, 2017   \n",
       "1       June 9, 2017   \n",
       "2       July 8, 2017   \n",
       "3      March 2, 2017   \n",
       "4  February 12, 2016   "
      ]
     },
     "execution_count": 70,
     "metadata": {},
     "output_type": "execute_result"
    }
   ],
   "source": [
    "df_real_train[\"text\"] = df_real_train[\"text\"].replace(r\"\\(Reuters\\)\\s*\", \"\", regex=True)\n",
    "df_real_test[\"text\"] = df_real_test[\"text\"].replace(r\"\\(Reuters\\)\\s*\", \"\", regex=True)\n",
    "df_real_train.head()"
   ]
  },
  {
   "cell_type": "code",
   "execution_count": 71,
   "id": "05319e89",
   "metadata": {},
   "outputs": [
    {
     "data": {
      "text/html": [
       "<div>\n",
       "<style scoped>\n",
       "    .dataframe tbody tr th:only-of-type {\n",
       "        vertical-align: middle;\n",
       "    }\n",
       "\n",
       "    .dataframe tbody tr th {\n",
       "        vertical-align: top;\n",
       "    }\n",
       "\n",
       "    .dataframe thead th {\n",
       "        text-align: right;\n",
       "    }\n",
       "</style>\n",
       "<table border=\"1\" class=\"dataframe\">\n",
       "  <thead>\n",
       "    <tr style=\"text-align: right;\">\n",
       "      <th></th>\n",
       "      <th>title</th>\n",
       "      <th>text</th>\n",
       "      <th>subject</th>\n",
       "      <th>date</th>\n",
       "      <th>label</th>\n",
       "    </tr>\n",
       "  </thead>\n",
       "  <tbody>\n",
       "    <tr>\n",
       "      <th>0</th>\n",
       "      <td>Sean Hannity Just Said Child Molestation Is O...</td>\n",
       "      <td>Republicans for some reason think it s perfect...</td>\n",
       "      <td>News</td>\n",
       "      <td>November 9, 2017</td>\n",
       "      <td>0</td>\n",
       "    </tr>\n",
       "    <tr>\n",
       "      <th>1</th>\n",
       "      <td>Boiler Room EP #69 – CULTure Club</td>\n",
       "      <td>Tune in to the Alternate Current Radio Network...</td>\n",
       "      <td>Middle-east</td>\n",
       "      <td>August 18, 2016</td>\n",
       "      <td>0</td>\n",
       "    </tr>\n",
       "    <tr>\n",
       "      <th>2</th>\n",
       "      <td>Chris Christie Takes Marco Rubio To The Woods...</td>\n",
       "      <td>Marco Rubio was looming large in New Hampshire...</td>\n",
       "      <td>News</td>\n",
       "      <td>February 7, 2016</td>\n",
       "      <td>0</td>\n",
       "    </tr>\n",
       "    <tr>\n",
       "      <th>3</th>\n",
       "      <td>FIVE FACTS About Benghazi That Hillary Doesn’t...</td>\n",
       "      <td>FIVE FACTS ABOUT HILLARY AND BENGHAZI:</td>\n",
       "      <td>Government News</td>\n",
       "      <td>Jul 29, 2016</td>\n",
       "      <td>0</td>\n",
       "    </tr>\n",
       "    <tr>\n",
       "      <th>4</th>\n",
       "      <td>Stuck on Stupid: Why is America Starting WW3?</td>\n",
       "      <td>SARTRE 21st Century WireEvery day the world mo...</td>\n",
       "      <td>US_News</td>\n",
       "      <td>October 11, 2016</td>\n",
       "      <td>0</td>\n",
       "    </tr>\n",
       "    <tr>\n",
       "      <th>...</th>\n",
       "      <td>...</td>\n",
       "      <td>...</td>\n",
       "      <td>...</td>\n",
       "      <td>...</td>\n",
       "      <td>...</td>\n",
       "    </tr>\n",
       "    <tr>\n",
       "      <th>9388</th>\n",
       "      <td>U OF CHICAGO Admissions Blames Trump For Chica...</td>\n",
       "      <td>The University of Chicago s admissions office ...</td>\n",
       "      <td>politics</td>\n",
       "      <td>Jan 9, 2017</td>\n",
       "      <td>0</td>\n",
       "    </tr>\n",
       "    <tr>\n",
       "      <th>9389</th>\n",
       "      <td>HOW FAILED DEMOCRAT LEADERSHIP IS TAKING NYC B...</td>\n",
       "      <td>Miss him yet?Here s an up-close look at a qual...</td>\n",
       "      <td>left-news</td>\n",
       "      <td>Jul 11, 2015</td>\n",
       "      <td>0</td>\n",
       "    </tr>\n",
       "    <tr>\n",
       "      <th>9390</th>\n",
       "      <td>This One Image From The RNC Is All You Need T...</td>\n",
       "      <td>Donald Trump is terrible. He wants to build a ...</td>\n",
       "      <td>News</td>\n",
       "      <td>July 21, 2016</td>\n",
       "      <td>0</td>\n",
       "    </tr>\n",
       "    <tr>\n",
       "      <th>9391</th>\n",
       "      <td>Trump Stole An Idea From North Korean Propaga...</td>\n",
       "      <td>Jesus f*cking Christ our President* is a moron...</td>\n",
       "      <td>News</td>\n",
       "      <td>July 14, 2017</td>\n",
       "      <td>0</td>\n",
       "    </tr>\n",
       "    <tr>\n",
       "      <th>9392</th>\n",
       "      <td>BREAKING: HILLARY CLINTON’S STATE DEPARTMENT G...</td>\n",
       "      <td>IF SHE S NOT TOAST NOW THEN WE RE IN BIGGER TR...</td>\n",
       "      <td>politics</td>\n",
       "      <td>Apr 23, 2015</td>\n",
       "      <td>0</td>\n",
       "    </tr>\n",
       "  </tbody>\n",
       "</table>\n",
       "<p>9393 rows × 5 columns</p>\n",
       "</div>"
      ],
      "text/plain": [
       "                                                  title  \\\n",
       "0      Sean Hannity Just Said Child Molestation Is O...   \n",
       "1                     Boiler Room EP #69 – CULTure Club   \n",
       "2      Chris Christie Takes Marco Rubio To The Woods...   \n",
       "3     FIVE FACTS About Benghazi That Hillary Doesn’t...   \n",
       "4         Stuck on Stupid: Why is America Starting WW3?   \n",
       "...                                                 ...   \n",
       "9388  U OF CHICAGO Admissions Blames Trump For Chica...   \n",
       "9389  HOW FAILED DEMOCRAT LEADERSHIP IS TAKING NYC B...   \n",
       "9390   This One Image From The RNC Is All You Need T...   \n",
       "9391   Trump Stole An Idea From North Korean Propaga...   \n",
       "9392  BREAKING: HILLARY CLINTON’S STATE DEPARTMENT G...   \n",
       "\n",
       "                                                   text          subject  \\\n",
       "0     Republicans for some reason think it s perfect...             News   \n",
       "1     Tune in to the Alternate Current Radio Network...      Middle-east   \n",
       "2     Marco Rubio was looming large in New Hampshire...             News   \n",
       "3                FIVE FACTS ABOUT HILLARY AND BENGHAZI:  Government News   \n",
       "4     SARTRE 21st Century WireEvery day the world mo...          US_News   \n",
       "...                                                 ...              ...   \n",
       "9388  The University of Chicago s admissions office ...         politics   \n",
       "9389  Miss him yet?Here s an up-close look at a qual...        left-news   \n",
       "9390  Donald Trump is terrible. He wants to build a ...             News   \n",
       "9391  Jesus f*cking Christ our President* is a moron...             News   \n",
       "9392  IF SHE S NOT TOAST NOW THEN WE RE IN BIGGER TR...         politics   \n",
       "\n",
       "                  date  label  \n",
       "0     November 9, 2017      0  \n",
       "1      August 18, 2016      0  \n",
       "2     February 7, 2016      0  \n",
       "3         Jul 29, 2016      0  \n",
       "4     October 11, 2016      0  \n",
       "...                ...    ...  \n",
       "9388       Jan 9, 2017      0  \n",
       "9389      Jul 11, 2015      0  \n",
       "9390     July 21, 2016      0  \n",
       "9391     July 14, 2017      0  \n",
       "9392      Apr 23, 2015      0  \n",
       "\n",
       "[9393 rows x 5 columns]"
      ]
     },
     "execution_count": 71,
     "metadata": {},
     "output_type": "execute_result"
    }
   ],
   "source": [
    "df_real_train['label'] = 1\n",
    "df_fake_train['label'] = 0\n",
    "df_fake_test['label'] = 0\n",
    "df_real_test['label'] = 1\n",
    "\n",
    "df_fake_test"
   ]
  },
  {
   "cell_type": "code",
   "execution_count": 72,
   "id": "1fb35d5d",
   "metadata": {},
   "outputs": [
    {
     "name": "stdout",
     "output_type": "stream",
     "text": [
      "14088 12850\n"
     ]
    }
   ],
   "source": [
    "print(len(df_fake_train), len(df_real_train))"
   ]
  },
  {
   "cell_type": "code",
   "execution_count": null,
   "id": "fef819bd",
   "metadata": {},
   "outputs": [],
   "source": [
    "'''\n",
    "df_fake_manual_testing = df_fake.tail(10)\n",
    "for i in range(14087,14077,-1):\n",
    "    df_fake.drop([i], axis = 0, inplace = True)\n",
    "    \n",
    "df_real_manual_testing = df_real.tail(10)\n",
    "for i in range(12849, 12839, -1):\n",
    "    df_real.drop([i], axis = 0, inplace = True)\n",
    "'''"
   ]
  },
  {
   "cell_type": "code",
   "execution_count": 73,
   "id": "aaa8d783",
   "metadata": {},
   "outputs": [
    {
     "name": "stdout",
     "output_type": "stream",
     "text": [
      "9393 8567\n"
     ]
    }
   ],
   "source": [
    "print(len(df_fake_test), len(df_real_test))"
   ]
  },
  {
   "cell_type": "code",
   "execution_count": null,
   "id": "b6b2b71e",
   "metadata": {},
   "outputs": [],
   "source": [
    "#df_fake_manual_testing.head()"
   ]
  },
  {
   "cell_type": "code",
   "execution_count": null,
   "id": "2b592262",
   "metadata": {},
   "outputs": [],
   "source": [
    "#df_manual_testing = pd.concat([df_fake_manual_testing,df_real_manual_testing], axis = 0)\n",
    "#df_manual_testing.to_csv(\"data\\\\manual_testing_new.csv\")"
   ]
  },
  {
   "cell_type": "code",
   "execution_count": 74,
   "id": "40f51841",
   "metadata": {},
   "outputs": [
    {
     "data": {
      "text/html": [
       "<div>\n",
       "<style scoped>\n",
       "    .dataframe tbody tr th:only-of-type {\n",
       "        vertical-align: middle;\n",
       "    }\n",
       "\n",
       "    .dataframe tbody tr th {\n",
       "        vertical-align: top;\n",
       "    }\n",
       "\n",
       "    .dataframe thead th {\n",
       "        text-align: right;\n",
       "    }\n",
       "</style>\n",
       "<table border=\"1\" class=\"dataframe\">\n",
       "  <thead>\n",
       "    <tr style=\"text-align: right;\">\n",
       "      <th></th>\n",
       "      <th>title</th>\n",
       "      <th>text</th>\n",
       "      <th>subject</th>\n",
       "      <th>date</th>\n",
       "      <th>label</th>\n",
       "    </tr>\n",
       "  </thead>\n",
       "  <tbody>\n",
       "    <tr>\n",
       "      <th>0</th>\n",
       "      <td>Europe rights watchdog says Turkey's emergency...</td>\n",
       "      <td>BRUSSELS - A leading European rights watchdog ...</td>\n",
       "      <td>worldnews</td>\n",
       "      <td>October 6, 2017</td>\n",
       "      <td>1</td>\n",
       "    </tr>\n",
       "    <tr>\n",
       "      <th>1</th>\n",
       "      <td>Exclusive: Trump targets illegal immigrants wh...</td>\n",
       "      <td>- In September 2014, Gilberto Velasquez, a 38-...</td>\n",
       "      <td>politicsNews</td>\n",
       "      <td>June 9, 2017</td>\n",
       "      <td>1</td>\n",
       "    </tr>\n",
       "    <tr>\n",
       "      <th>2</th>\n",
       "      <td>At G20 summit, Trump pledges $639 million in a...</td>\n",
       "      <td>HAMBURG - U.S. President Donald Trump on Satur...</td>\n",
       "      <td>politicsNews</td>\n",
       "      <td>July 8, 2017</td>\n",
       "      <td>1</td>\n",
       "    </tr>\n",
       "    <tr>\n",
       "      <th>3</th>\n",
       "      <td>Ex-Christie associates lose bid for new trial ...</td>\n",
       "      <td>NEW YORK - A federal judge rejected a request ...</td>\n",
       "      <td>politicsNews</td>\n",
       "      <td>March 2, 2017</td>\n",
       "      <td>1</td>\n",
       "    </tr>\n",
       "    <tr>\n",
       "      <th>4</th>\n",
       "      <td>Young blacks more open to Bernie Sanders' Whit...</td>\n",
       "      <td>ORANGEBURG, S.C. - If Democratic hopeful Berni...</td>\n",
       "      <td>politicsNews</td>\n",
       "      <td>February 12, 2016</td>\n",
       "      <td>1</td>\n",
       "    </tr>\n",
       "    <tr>\n",
       "      <th>5</th>\n",
       "      <td>New York attorney general says will sue over O...</td>\n",
       "      <td>- New York state Attorney General Eric Schneid...</td>\n",
       "      <td>politicsNews</td>\n",
       "      <td>July 17, 2017</td>\n",
       "      <td>1</td>\n",
       "    </tr>\n",
       "    <tr>\n",
       "      <th>6</th>\n",
       "      <td>Indonesian parliament speaker quits amid graft...</td>\n",
       "      <td>JAKARTA - The speaker of Indonesia s parliamen...</td>\n",
       "      <td>worldnews</td>\n",
       "      <td>December 11, 2017</td>\n",
       "      <td>1</td>\n",
       "    </tr>\n",
       "    <tr>\n",
       "      <th>7</th>\n",
       "      <td>Spanish lender Sabadell to transfer legal base...</td>\n",
       "      <td>MADRID - Spanish lender Sabadell decided on Th...</td>\n",
       "      <td>worldnews</td>\n",
       "      <td>October 5, 2017</td>\n",
       "      <td>1</td>\n",
       "    </tr>\n",
       "    <tr>\n",
       "      <th>8</th>\n",
       "      <td>House speaker tells Trump healthcare bill lack...</td>\n",
       "      <td>WASHINGTON - U.S. House Speaker Paul Ryan told...</td>\n",
       "      <td>politicsNews</td>\n",
       "      <td>March 24, 2017</td>\n",
       "      <td>1</td>\n",
       "    </tr>\n",
       "    <tr>\n",
       "      <th>9</th>\n",
       "      <td>Britain says expects most EU citizens can stay...</td>\n",
       "      <td>LONDON - The British government said on Tuesda...</td>\n",
       "      <td>worldnews</td>\n",
       "      <td>November 7, 2017</td>\n",
       "      <td>1</td>\n",
       "    </tr>\n",
       "  </tbody>\n",
       "</table>\n",
       "</div>"
      ],
      "text/plain": [
       "                                               title  \\\n",
       "0  Europe rights watchdog says Turkey's emergency...   \n",
       "1  Exclusive: Trump targets illegal immigrants wh...   \n",
       "2  At G20 summit, Trump pledges $639 million in a...   \n",
       "3  Ex-Christie associates lose bid for new trial ...   \n",
       "4  Young blacks more open to Bernie Sanders' Whit...   \n",
       "5  New York attorney general says will sue over O...   \n",
       "6  Indonesian parliament speaker quits amid graft...   \n",
       "7  Spanish lender Sabadell to transfer legal base...   \n",
       "8  House speaker tells Trump healthcare bill lack...   \n",
       "9  Britain says expects most EU citizens can stay...   \n",
       "\n",
       "                                                text       subject  \\\n",
       "0  BRUSSELS - A leading European rights watchdog ...     worldnews   \n",
       "1  - In September 2014, Gilberto Velasquez, a 38-...  politicsNews   \n",
       "2  HAMBURG - U.S. President Donald Trump on Satur...  politicsNews   \n",
       "3  NEW YORK - A federal judge rejected a request ...  politicsNews   \n",
       "4  ORANGEBURG, S.C. - If Democratic hopeful Berni...  politicsNews   \n",
       "5  - New York state Attorney General Eric Schneid...  politicsNews   \n",
       "6  JAKARTA - The speaker of Indonesia s parliamen...     worldnews   \n",
       "7  MADRID - Spanish lender Sabadell decided on Th...     worldnews   \n",
       "8  WASHINGTON - U.S. House Speaker Paul Ryan told...  politicsNews   \n",
       "9  LONDON - The British government said on Tuesda...     worldnews   \n",
       "\n",
       "                 date  label  \n",
       "0    October 6, 2017       1  \n",
       "1       June 9, 2017       1  \n",
       "2       July 8, 2017       1  \n",
       "3      March 2, 2017       1  \n",
       "4  February 12, 2016       1  \n",
       "5      July 17, 2017       1  \n",
       "6  December 11, 2017       1  \n",
       "7    October 5, 2017       1  \n",
       "8     March 24, 2017       1  \n",
       "9   November 7, 2017       1  "
      ]
     },
     "execution_count": 74,
     "metadata": {},
     "output_type": "execute_result"
    }
   ],
   "source": [
    "df = pd.concat([df_real_train, df_fake_train], axis = 0)\n",
    "df_test = pd.concat([df_real_test, df_fake_test], axis = 0)\n",
    "df.head(10)"
   ]
  },
  {
   "cell_type": "code",
   "execution_count": 75,
   "id": "78472258",
   "metadata": {},
   "outputs": [
    {
     "data": {
      "text/plain": [
       "Index(['title', 'text', 'subject', 'date', 'label'], dtype='object')"
      ]
     },
     "execution_count": 75,
     "metadata": {},
     "output_type": "execute_result"
    }
   ],
   "source": [
    "df.columns"
   ]
  },
  {
   "cell_type": "code",
   "execution_count": 76,
   "id": "216e308b",
   "metadata": {},
   "outputs": [],
   "source": [
    "df = df.drop([\"title\", \"subject\",\"date\"], axis = 1)\n",
    "df_test = df_test.drop([\"title\", \"subject\",\"date\"], axis = 1)"
   ]
  },
  {
   "cell_type": "code",
   "execution_count": 77,
   "id": "a4774f20",
   "metadata": {},
   "outputs": [
    {
     "data": {
      "text/plain": [
       "text     0\n",
       "label    0\n",
       "dtype: int64"
      ]
     },
     "execution_count": 77,
     "metadata": {},
     "output_type": "execute_result"
    }
   ],
   "source": [
    "df.isnull().sum()\n"
   ]
  },
  {
   "cell_type": "code",
   "execution_count": 78,
   "id": "f84690d5",
   "metadata": {},
   "outputs": [
    {
     "data": {
      "text/plain": [
       "text     0\n",
       "label    0\n",
       "dtype: int64"
      ]
     },
     "execution_count": 78,
     "metadata": {},
     "output_type": "execute_result"
    }
   ],
   "source": [
    "df_test.isnull().sum()"
   ]
  },
  {
   "cell_type": "code",
   "execution_count": 79,
   "id": "5030bffa",
   "metadata": {},
   "outputs": [],
   "source": [
    "df = df.sample(frac = 1)"
   ]
  },
  {
   "cell_type": "code",
   "execution_count": 80,
   "id": "ff23fff7",
   "metadata": {},
   "outputs": [
    {
     "data": {
      "text/html": [
       "<div>\n",
       "<style scoped>\n",
       "    .dataframe tbody tr th:only-of-type {\n",
       "        vertical-align: middle;\n",
       "    }\n",
       "\n",
       "    .dataframe tbody tr th {\n",
       "        vertical-align: top;\n",
       "    }\n",
       "\n",
       "    .dataframe thead th {\n",
       "        text-align: right;\n",
       "    }\n",
       "</style>\n",
       "<table border=\"1\" class=\"dataframe\">\n",
       "  <thead>\n",
       "    <tr style=\"text-align: right;\">\n",
       "      <th></th>\n",
       "      <th>text</th>\n",
       "      <th>label</th>\n",
       "    </tr>\n",
       "  </thead>\n",
       "  <tbody>\n",
       "    <tr>\n",
       "      <th>5761</th>\n",
       "      <td>OSLO - The leader of the International Campaig...</td>\n",
       "      <td>1</td>\n",
       "    </tr>\n",
       "    <tr>\n",
       "      <th>107</th>\n",
       "      <td>WASHINGTON - Charges brought against President...</td>\n",
       "      <td>1</td>\n",
       "    </tr>\n",
       "    <tr>\n",
       "      <th>6139</th>\n",
       "      <td>We know that Trump wants to ban Muslims from b...</td>\n",
       "      <td>0</td>\n",
       "    </tr>\n",
       "    <tr>\n",
       "      <th>1746</th>\n",
       "      <td>LONDON - A magnitude 5.9 earthquake hit off th...</td>\n",
       "      <td>1</td>\n",
       "    </tr>\n",
       "    <tr>\n",
       "      <th>12501</th>\n",
       "      <td>Remember when Bill O Reilly took a vacation af...</td>\n",
       "      <td>0</td>\n",
       "    </tr>\n",
       "  </tbody>\n",
       "</table>\n",
       "</div>"
      ],
      "text/plain": [
       "                                                    text  label\n",
       "5761   OSLO - The leader of the International Campaig...      1\n",
       "107    WASHINGTON - Charges brought against President...      1\n",
       "6139   We know that Trump wants to ban Muslims from b...      0\n",
       "1746   LONDON - A magnitude 5.9 earthquake hit off th...      1\n",
       "12501  Remember when Bill O Reilly took a vacation af...      0"
      ]
     },
     "execution_count": 80,
     "metadata": {},
     "output_type": "execute_result"
    }
   ],
   "source": [
    "df.head()"
   ]
  },
  {
   "cell_type": "code",
   "execution_count": 81,
   "id": "ce253d48",
   "metadata": {},
   "outputs": [],
   "source": [
    "df.reset_index(inplace = True)\n"
   ]
  },
  {
   "cell_type": "code",
   "execution_count": null,
   "id": "caabcccd",
   "metadata": {},
   "outputs": [],
   "source": [
    "df.drop([\"index\"], axis = 1, inplace = True)\n",
    "#df.drop(['level_0'], axis = 1, inplace = True)\n",
    "df.head()"
   ]
  },
  {
   "cell_type": "code",
   "execution_count": 84,
   "id": "7bfad088",
   "metadata": {},
   "outputs": [
    {
     "data": {
      "text/plain": [
       "Index(['text', 'label'], dtype='object')"
      ]
     },
     "execution_count": 84,
     "metadata": {},
     "output_type": "execute_result"
    }
   ],
   "source": [
    "df.columns"
   ]
  },
  {
   "cell_type": "code",
   "execution_count": 85,
   "id": "a54cde64",
   "metadata": {},
   "outputs": [
    {
     "data": {
      "text/html": [
       "<div>\n",
       "<style scoped>\n",
       "    .dataframe tbody tr th:only-of-type {\n",
       "        vertical-align: middle;\n",
       "    }\n",
       "\n",
       "    .dataframe tbody tr th {\n",
       "        vertical-align: top;\n",
       "    }\n",
       "\n",
       "    .dataframe thead th {\n",
       "        text-align: right;\n",
       "    }\n",
       "</style>\n",
       "<table border=\"1\" class=\"dataframe\">\n",
       "  <thead>\n",
       "    <tr style=\"text-align: right;\">\n",
       "      <th></th>\n",
       "      <th>text</th>\n",
       "      <th>label</th>\n",
       "    </tr>\n",
       "  </thead>\n",
       "  <tbody>\n",
       "    <tr>\n",
       "      <th>0</th>\n",
       "      <td>OSLO - The leader of the International Campaig...</td>\n",
       "      <td>1</td>\n",
       "    </tr>\n",
       "    <tr>\n",
       "      <th>1</th>\n",
       "      <td>WASHINGTON - Charges brought against President...</td>\n",
       "      <td>1</td>\n",
       "    </tr>\n",
       "    <tr>\n",
       "      <th>2</th>\n",
       "      <td>We know that Trump wants to ban Muslims from b...</td>\n",
       "      <td>0</td>\n",
       "    </tr>\n",
       "    <tr>\n",
       "      <th>3</th>\n",
       "      <td>LONDON - A magnitude 5.9 earthquake hit off th...</td>\n",
       "      <td>1</td>\n",
       "    </tr>\n",
       "    <tr>\n",
       "      <th>4</th>\n",
       "      <td>Remember when Bill O Reilly took a vacation af...</td>\n",
       "      <td>0</td>\n",
       "    </tr>\n",
       "  </tbody>\n",
       "</table>\n",
       "</div>"
      ],
      "text/plain": [
       "                                                text  label\n",
       "0  OSLO - The leader of the International Campaig...      1\n",
       "1  WASHINGTON - Charges brought against President...      1\n",
       "2  We know that Trump wants to ban Muslims from b...      0\n",
       "3  LONDON - A magnitude 5.9 earthquake hit off th...      1\n",
       "4  Remember when Bill O Reilly took a vacation af...      0"
      ]
     },
     "execution_count": 85,
     "metadata": {},
     "output_type": "execute_result"
    }
   ],
   "source": [
    "df.head()"
   ]
  },
  {
   "cell_type": "code",
   "execution_count": null,
   "id": "6a448d1c",
   "metadata": {},
   "outputs": [
    {
     "name": "stdout",
     "output_type": "stream",
     "text": [
      "Thống kê ban đầu:\n",
      "Số lượng tin thật: 12850\n",
      "Số lượng tin giả: 14088\n"
     ]
    },
    {
     "data": {
      "image/png": "[encoded data removed]",
      "text/plain": [
       "<Figure size 1000x600 with 1 Axes>"
      ]
     },
     "metadata": {},
     "output_type": "display_data"
    },
    {
     "data": {
      "image/png": "[encoded data removed]",
      "text/plain": [
       "<Figure size 1200x600 with 1 Axes>"
      ]
     },
     "metadata": {},
     "output_type": "display_data"
    },
    {
     "name": "stdout",
     "output_type": "stream",
     "text": [
      "\n",
      "Thống kê độ dài văn bản cho tin thật:\n",
      "count    12850.00000\n",
      "mean      2376.56786\n",
      "std       1692.24454\n",
      "min          1.00000\n",
      "25%        889.25000\n",
      "50%       2214.00000\n",
      "75%       3236.75000\n",
      "max      29771.00000\n",
      "Name: original_length, dtype: float64\n",
      "\n",
      "Thống kê độ dài văn bản cho tin giả:\n",
      "count    14088.000000\n",
      "mean      2543.159781\n",
      "std       2491.543303\n",
      "min          1.000000\n",
      "25%       1440.000000\n",
      "50%       2169.000000\n",
      "75%       3038.000000\n",
      "max      51794.000000\n",
      "Name: original_length, dtype: float64\n",
      "\n",
      "Số tin giả có độ dài > 20000: 43\n",
      "\n",
      "Thống kê sau khi lọc:\n",
      "Số lượng tin thật: 12850\n",
      "Số lượng tin giả: 14045\n"
     ]
    },
    {
     "data": {
      "image/png": "[encoded data removed]",
      "text/plain": [
       "<Figure size 1000x600 with 1 Axes>"
      ]
     },
     "metadata": {},
     "output_type": "display_data"
    },
    {
     "data": {
      "image/png": "[encoded data removed]",
      "text/plain": [
       "<Figure size 1200x600 with 1 Axes>"
      ]
     },
     "metadata": {},
     "output_type": "display_data"
    },
    {
     "name": "stdout",
     "output_type": "stream",
     "text": [
      "\n",
      "Thống kê độ dài văn bản cho tin thật (sau khi lọc):\n",
      "count    12850.00000\n",
      "mean      2376.56786\n",
      "std       1692.24454\n",
      "min          1.00000\n",
      "25%        889.25000\n",
      "50%       2214.00000\n",
      "75%       3236.75000\n",
      "max      29771.00000\n",
      "Name: original_length, dtype: float64\n",
      "\n",
      "Thống kê độ dài văn bản cho tin giả (sau khi lọc):\n",
      "count    14045.000000\n",
      "mean      2458.962763\n",
      "std       1907.186907\n",
      "min          1.000000\n",
      "25%       1437.000000\n",
      "50%       2166.000000\n",
      "75%       3025.000000\n",
      "max      19723.000000\n",
      "Name: original_length, dtype: float64\n"
     ]
    }
   ],
   "source": [
    "# Tiếp tục xử lý dữ liệu như bình thường\n",
    "def wordopt(text):\n",
    "    # Download stopwords nếu chưa có\n",
    "    try:\n",
    "        nltk.data.find('corpora/stopwords')\n",
    "    except LookupError:\n",
    "        nltk.download('stopwords')\n",
    "    \n",
    "    # Lấy danh sách stopwords tiếng Anh\n",
    "    stop_words = set(nltk.corpus.stopwords.words('english'))\n",
    "    \n",
    "    text = text.lower()  # Chuyển tất cả thành chữ thường\n",
    "    text = re.sub(r'\\[.*?\\]', '', text)  # Loại bỏ văn bản trong dấu ngoặc vuông\n",
    "    text = re.sub(r\"\\W\", \" \", text)  # Loại bỏ ký tự không phải chữ cái và số\n",
    "    text = re.sub(r'https?://\\S+|www\\.\\S+', '', text)  # Loại bỏ liên kết URL\n",
    "    text = re.sub(r'<.*?>', '', text)  # Loại bỏ các thẻ HTML\n",
    "    text = re.sub(r'[%s]' % re.escape(string.punctuation), '', text)  # Loại bỏ dấu câu\n",
    "    text = re.sub(r'\\n', '', text)  # Loại bỏ ký tự xuống dòng\n",
    "    text = re.sub(r'\\w*\\d\\w*', '', text)  # Loại bỏ từ có chứa số\n",
    "    \n",
    "    # Loại bỏ stopwords\n",
    "    words = text.split()\n",
    "    text = ' '.join([word for word in words if word not in stop_words])\n",
    "    \n",
    "    return text"
   ]
  },
  {
   "cell_type": "code",
   "execution_count": 87,
   "id": "170c4a3a",
   "metadata": {},
   "outputs": [
    {
     "data": {
      "text/html": [
       "<div>\n",
       "<style scoped>\n",
       "    .dataframe tbody tr th:only-of-type {\n",
       "        vertical-align: middle;\n",
       "    }\n",
       "\n",
       "    .dataframe tbody tr th {\n",
       "        vertical-align: top;\n",
       "    }\n",
       "\n",
       "    .dataframe thead th {\n",
       "        text-align: right;\n",
       "    }\n",
       "</style>\n",
       "<table border=\"1\" class=\"dataframe\">\n",
       "  <thead>\n",
       "    <tr style=\"text-align: right;\">\n",
       "      <th></th>\n",
       "      <th>text</th>\n",
       "      <th>label</th>\n",
       "    </tr>\n",
       "  </thead>\n",
       "  <tbody>\n",
       "    <tr>\n",
       "      <th>0</th>\n",
       "      <td>oslo leader international campaign abolish nuc...</td>\n",
       "      <td>1</td>\n",
       "    </tr>\n",
       "    <tr>\n",
       "      <th>1</th>\n",
       "      <td>washington charges brought president donald tr...</td>\n",
       "      <td>1</td>\n",
       "    </tr>\n",
       "    <tr>\n",
       "      <th>2</th>\n",
       "      <td>know trump wants ban muslims able enter u face...</td>\n",
       "      <td>0</td>\n",
       "    </tr>\n",
       "    <tr>\n",
       "      <th>3</th>\n",
       "      <td>london magnitude earthquake hit coast papua ne...</td>\n",
       "      <td>1</td>\n",
       "    </tr>\n",
       "    <tr>\n",
       "      <th>4</th>\n",
       "      <td>remember bill reilly took vacation sexual hara...</td>\n",
       "      <td>0</td>\n",
       "    </tr>\n",
       "  </tbody>\n",
       "</table>\n",
       "</div>"
      ],
      "text/plain": [
       "                                                text  label\n",
       "0  oslo leader international campaign abolish nuc...      1\n",
       "1  washington charges brought president donald tr...      1\n",
       "2  know trump wants ban muslims able enter u face...      0\n",
       "3  london magnitude earthquake hit coast papua ne...      1\n",
       "4  remember bill reilly took vacation sexual hara...      0"
      ]
     },
     "execution_count": 87,
     "metadata": {},
     "output_type": "execute_result"
    }
   ],
   "source": [
    "df[\"text\"] = df[\"text\"].apply(wordopt)\n",
    "df_test[\"text\"] = df_test[\"text\"].apply(wordopt)\n",
    "df.head()"
   ]
  },
  {
   "cell_type": "code",
   "execution_count": 88,
   "id": "04ef4755",
   "metadata": {},
   "outputs": [],
   "source": [
    "x_train = df[\"text\"]\n",
    "y_train = df[\"label\"]\n",
    "x_test = df_test[\"text\"]\n",
    "y_test = df_test[\"label\"]"
   ]
  },
  {
   "cell_type": "code",
   "execution_count": null,
   "id": "1b453fe7",
   "metadata": {},
   "outputs": [],
   "source": [
    "#x_train, x_test, y_train, y_test = train_test_split(x, y, test_size=0.25)"
   ]
  },
  {
   "cell_type": "code",
   "execution_count": 89,
   "id": "923a83b6",
   "metadata": {},
   "outputs": [],
   "source": [
    "from sklearn.feature_extraction.text import TfidfVectorizer\n",
    "\n",
    "vectorization = TfidfVectorizer()\n",
    "xv_train = vectorization.fit_transform(x_train)\n",
    "xv_test = vectorization.transform(x_test)"
   ]
  },
  {
   "cell_type": "code",
   "execution_count": 90,
   "id": "34f51fee",
   "metadata": {},
   "outputs": [],
   "source": [
    "# Trích xuất độ dài văn bản cho tập training và test\n",
    "text_length_train = df['text'].apply(len)\n",
    "text_length_test = df_test['text'].apply(len)\n",
    "\n",
    "# Kết hợp feature độ dài với TF-IDF features\n",
    "xv_train_with_length = scipy.sparse.hstack([\n",
    "    xv_train,\n",
    "    scipy.sparse.csr_matrix(text_length_train.values.reshape(-1, 1))\n",
    "])\n",
    "\n",
    "xv_test_with_length = scipy.sparse.hstack([\n",
    "    xv_test,\n",
    "    scipy.sparse.csr_matrix(text_length_test.values.reshape(-1, 1))\n",
    "])"
   ]
  },
  {
   "cell_type": "markdown",
   "id": "08dfb849",
   "metadata": {},
   "source": [
    "LOGISTIC REGRESSION"
   ]
  },
  {
   "cell_type": "code",
   "execution_count": 91,
   "id": "2a5414e9",
   "metadata": {},
   "outputs": [
    {
     "name": "stdout",
     "output_type": "stream",
     "text": [
      "\n",
      "Logistic Regression với feature độ dài:\n",
      "Accuracy: 0.9592984409799554\n",
      "              precision    recall  f1-score   support\n",
      "\n",
      "           0       0.96      0.96      0.96      9393\n",
      "           1       0.95      0.96      0.96      8567\n",
      "\n",
      "    accuracy                           0.96     17960\n",
      "   macro avg       0.96      0.96      0.96     17960\n",
      "weighted avg       0.96      0.96      0.96     17960\n",
      "\n"
     ]
    }
   ],
   "source": [
    "from sklearn.linear_model import LogisticRegression\n",
    "\n",
    "LR = LogisticRegression()\n",
    "LR.fit(xv_train_with_length, y_train)\n",
    "pred_lr = LR.predict(xv_test_with_length)\n",
    "print(\"\\nLogistic Regression với feature độ dài:\")\n",
    "print(\"Accuracy:\", LR.score(xv_test_with_length, y_test))\n",
    "print(classification_report(y_test, pred_lr))"
   ]
  },
  {
   "cell_type": "markdown",
   "id": "5801205a",
   "metadata": {},
   "source": [
    "DECISION TREE CLASSIFICATION"
   ]
  },
  {
   "cell_type": "code",
   "execution_count": 92,
   "id": "6fd976ca",
   "metadata": {},
   "outputs": [
    {
     "name": "stdout",
     "output_type": "stream",
     "text": [
      "\n",
      "Decision Tree với feature độ dài:\n",
      "Accuracy: 0.9514476614699332\n",
      "              precision    recall  f1-score   support\n",
      "\n",
      "           0       0.95      0.96      0.95      9393\n",
      "           1       0.96      0.94      0.95      8567\n",
      "\n",
      "    accuracy                           0.95     17960\n",
      "   macro avg       0.95      0.95      0.95     17960\n",
      "weighted avg       0.95      0.95      0.95     17960\n",
      "\n"
     ]
    }
   ],
   "source": [
    "from sklearn.tree import DecisionTreeClassifier\n",
    "\n",
    "DT = DecisionTreeClassifier()\n",
    "DT.fit(xv_train_with_length, y_train)\n",
    "pred_dt = DT.predict(xv_test_with_length)\n",
    "print(\"\\nDecision Tree với feature độ dài:\")\n",
    "print(\"Accuracy:\", DT.score(xv_test_with_length, y_test))\n",
    "print(classification_report(y_test, pred_dt))"
   ]
  },
  {
   "cell_type": "markdown",
   "id": "acb57f3e",
   "metadata": {},
   "source": [
    "GRADIENT BOOSTING CLASSIFIER"
   ]
  },
  {
   "cell_type": "code",
   "execution_count": 93,
   "id": "27fcb7eb",
   "metadata": {},
   "outputs": [
    {
     "name": "stdout",
     "output_type": "stream",
     "text": [
      "\n",
      "Gradient Boosting với feature độ dài:\n",
      "Accuracy: 0.9596881959910913\n",
      "              precision    recall  f1-score   support\n",
      "\n",
      "           0       0.96      0.96      0.96      9393\n",
      "           1       0.96      0.96      0.96      8567\n",
      "\n",
      "    accuracy                           0.96     17960\n",
      "   macro avg       0.96      0.96      0.96     17960\n",
      "weighted avg       0.96      0.96      0.96     17960\n",
      "\n"
     ]
    }
   ],
   "source": [
    "from sklearn.ensemble import GradientBoostingClassifier\n",
    "\n",
    "GBC = GradientBoostingClassifier(random_state=0)\n",
    "GBC.fit(xv_train_with_length, y_train)\n",
    "pred_gbc = GBC.predict(xv_test_with_length)\n",
    "print(\"\\nGradient Boosting với feature độ dài:\")\n",
    "print(\"Accuracy:\", GBC.score(xv_test_with_length, y_test))\n",
    "print(classification_report(y_test, pred_gbc))"
   ]
  },
  {
   "cell_type": "markdown",
   "id": "c20ed076",
   "metadata": {},
   "source": [
    "RANDOM FOREST CLASSIFIER"
   ]
  },
  {
   "cell_type": "code",
   "execution_count": 94,
   "id": "f2f9c889",
   "metadata": {},
   "outputs": [
    {
     "name": "stdout",
     "output_type": "stream",
     "text": [
      "\n",
      "Random Forest với feature độ dài:\n",
      "Accuracy: 0.9811247216035635\n",
      "              precision    recall  f1-score   support\n",
      "\n",
      "           0       0.98      0.98      0.98      9393\n",
      "           1       0.98      0.98      0.98      8567\n",
      "\n",
      "    accuracy                           0.98     17960\n",
      "   macro avg       0.98      0.98      0.98     17960\n",
      "weighted avg       0.98      0.98      0.98     17960\n",
      "\n",
      "Accuracy: 0.9811247216035635\n",
      "              precision    recall  f1-score   support\n",
      "\n",
      "           0       0.98      0.98      0.98      9393\n",
      "           1       0.98      0.98      0.98      8567\n",
      "\n",
      "    accuracy                           0.98     17960\n",
      "   macro avg       0.98      0.98      0.98     17960\n",
      "weighted avg       0.98      0.98      0.98     17960\n",
      "\n"
     ]
    }
   ],
   "source": [
    "from sklearn.ensemble import RandomForestClassifier\n",
    "\n",
    "RFC = RandomForestClassifier(random_state=0)\n",
    "RFC.fit(xv_train_with_length, y_train)\n",
    "pred_rfc = RFC.predict(xv_test_with_length)\n",
    "print(\"\\nRandom Forest với feature độ dài:\")\n",
    "print(\"Accuracy:\", RFC.score(xv_test_with_length, y_test))\n",
    "print(classification_report(y_test, pred_rfc))"
   ]
  },
  {
   "cell_type": "markdown",
   "id": "14498365",
   "metadata": {},
   "source": [
    "XGBOOST"
   ]
  },
  {
   "cell_type": "code",
   "execution_count": 95,
   "id": "c59beccd",
   "metadata": {},
   "outputs": [
    {
     "name": "stdout",
     "output_type": "stream",
     "text": [
      "\n",
      "XGBoost với feature độ dài:\n",
      "Accuracy: 0.9608574610244989\n",
      "              precision    recall  f1-score   support\n",
      "\n",
      "           0       0.96      0.96      0.96      9393\n",
      "           1       0.96      0.96      0.96      8567\n",
      "\n",
      "    accuracy                           0.96     17960\n",
      "   macro avg       0.96      0.96      0.96     17960\n",
      "weighted avg       0.96      0.96      0.96     17960\n",
      "\n"
     ]
    }
   ],
   "source": [
    "from xgboost import XGBClassifier\n",
    "\n",
    "XG = XGBClassifier(n_estimators=100, max_depth=3, learning_rate=0.1, n_jobs=-1)\n",
    "XG.fit(xv_train_with_length, y_train)\n",
    "pred_xg = XG.predict(xv_test_with_length)\n",
    "print(\"\\nXGBoost với feature độ dài:\")\n",
    "print(\"Accuracy:\", XG.score(xv_test_with_length, y_test))\n",
    "print(classification_report(y_test, pred_xg))"
   ]
  },
  {
   "cell_type": "markdown",
   "id": "6d3e55a2",
   "metadata": {},
   "source": [
    "TESTING MODEL"
   ]
  },
  {
   "cell_type": "code",
   "execution_count": null,
   "id": "0c9c3f15",
   "metadata": {},
   "outputs": [],
   "source": [
    "def output_lable(n):\n",
    "    if n == 0:\n",
    "        return \"Fake News\"\n",
    "    elif n == 1:\n",
    "        return \"Not A Fake News\"\n",
    "    \n",
    "def manual_testing(news):\n",
    "    news = re.sub(r\"\\(Reuters\\)\\s*\", '', news)\n",
    "    testing_news = {\"text\":[news]}\n",
    "    new_def_test = pd.DataFrame(testing_news)\n",
    "    new_def_test[\"text\"] = new_def_test[\"text\"].apply(wordopt) \n",
    "    new_x_test = new_def_test[\"text\"]\n",
    "    new_xv_test = vectorization.transform(new_x_test)\n",
    "    \n",
    "    # Thêm feature độ dài văn bản cho testing\n",
    "    text_length = len(new_def_test[\"text\"].iloc[0])\n",
    "    new_xv_test_with_length = scipy.sparse.hstack([\n",
    "        new_xv_test,\n",
    "        scipy.sparse.csr_matrix([[text_length]])\n",
    "    ])\n",
    "    \n",
    "    pred_LR = LR.predict(new_xv_test_with_length)\n",
    "    #pred_DT = DT.predict(new_xv_test_with_length)\n",
    "    #pred_GBC = GBC.predict(new_xv_test_with_length)\n",
    "    #pred_RFC = RFC.predict(new_xv_test_with_length)\n",
    "    #pred_XG = XG.predict(new_xv_test_with_length)\n",
    "    \n",
    "    return print(\"\\n\\nLR Prediction: {}\".format(output_lable(pred_LR[0])))\n",
    "\n",
    "new = str(input())\n",
    "manual_testing(new)"
   ]
  },
  {
   "cell_type": "code",
   "execution_count": null,
   "id": "05305325",
   "metadata": {},
   "outputs": [],
   "source": [
    "# So sánh các mô hình\n",
    "models = {\n",
    "    'Logistic Regression': (LR, pred_lr),\n",
    "    'Decision Tree': (DT, pred_dt),\n",
    "    'Gradient Boosting': (GBC, pred_gbc),\n",
    "    'Random Forest': (RFC, pred_rfc),\n",
    "    'XGBoost': (XG, pred_xg)\n",
    "}\n",
    "\n",
    "# Tính toán các metrics cho từng mô hình\n",
    "results = []\n",
    "for name, (model, predictions) in models.items():\n",
    "    accuracy = accuracy_score(y_test, predictions)\n",
    "    report = classification_report(y_test, predictions, output_dict=True)\n",
    "    results.append({\n",
    "        'Model': name,\n",
    "        'Accuracy': accuracy,\n",
    "        'Precision': report['macro avg']['precision'],\n",
    "        'Recall': report['macro avg']['recall'],\n",
    "        'F1-Score': report['macro avg']['f1-score']\n",
    "    })\n",
    "\n",
    "results_df = pd.DataFrame(results)\n",
    "\n",
    "# 1. So sánh accuracy của các mô hình\n",
    "plt.figure(figsize=(12, 6))\n",
    "sns.barplot(data=results_df, x='Model', y='Accuracy')\n",
    "plt.title('So sánh độ chính xác của các mô hình')\n",
    "plt.xticks(rotation=45)\n",
    "plt.tight_layout()\n",
    "plt.show()\n",
    "\n",
    "# 2. So sánh các metrics khác nhau\n",
    "metrics = ['Accuracy', 'Precision', 'Recall', 'F1-Score']\n",
    "plt.figure(figsize=(12, 6))\n",
    "results_df_melted = results_df.melt(id_vars=['Model'], value_vars=metrics, var_name='Metric', value_name='Score')\n",
    "sns.barplot(data=results_df_melted, x='Model', y='Score', hue='Metric')\n",
    "plt.title('So sánh các metrics của các mô hình')\n",
    "plt.xticks(rotation=45)\n",
    "plt.legend(bbox_to_anchor=(1.05, 1), loc='upper left')\n",
    "plt.tight_layout()\n",
    "plt.show()\n",
    "\n",
    "# 3. Vẽ Confusion Matrix cho Random Forest (mô hình tốt nhất)\n",
    "plt.figure(figsize=(8, 6))\n",
    "cm = confusion_matrix(y_test, pred_rfc)\n",
    "sns.heatmap(cm, annot=True, fmt='d', cmap='Blues')\n",
    "plt.title('Confusion Matrix - Random Forest')\n",
    "plt.ylabel('Thực tế')\n",
    "plt.xlabel('Dự đoán')\n",
    "plt.show()\n",
    "\n",
    "# 4. So sánh ROC curves\n",
    "plt.figure(figsize=(10, 6))\n",
    "for name, (model, predictions) in models.items():\n",
    "    if hasattr(model, \"predict_proba\"):\n",
    "        y_pred_proba = model.predict_proba(xv_test_with_length)[:, 1]\n",
    "        fpr, tpr, _ = roc_curve(y_test, y_pred_proba)\n",
    "        roc_auc = auc(fpr, tpr)\n",
    "        plt.plot(fpr, tpr, label=f'{name} (AUC = {roc_auc:.2f})')\n",
    "\n",
    "plt.plot([0, 1], [0, 1], 'k--')\n",
    "plt.xlabel('False Positive Rate')\n",
    "plt.ylabel('True Positive Rate')\n",
    "plt.title('ROC Curves cho các mô hình')\n",
    "plt.legend(bbox_to_anchor=(1.05, 1), loc='upper left')\n",
    "plt.tight_layout()\n",
    "plt.show()\n",
    "\n",
    "# In bảng so sánh chi tiết\n",
    "print(\"\\nBảng so sánh chi tiết các mô hình:\")\n",
    "print(results_df.round(4).to_string(index=False))"
   ]
  }
 ],
 "metadata": {
  "kernelspec": {
   "display_name": "base",
   "language": "python",
   "name": "python3"
  },
  "language_info": {
   "codemirror_mode": {
    "name": "ipython",
    "version": 3
   },
   "file_extension": ".py",
   "mimetype": "text/x-python",
   "name": "python",
   "nbconvert_exporter": "python",
   "pygments_lexer": "ipython3",
   "version": "3.12.3"
  }
 },
 "nbformat": 4,
 "nbformat_minor": 5
}
